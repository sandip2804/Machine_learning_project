{
 "cells": [
  {
   "cell_type": "code",
   "execution_count": 1,
   "id": "d54e225f",
   "metadata": {},
   "outputs": [],
   "source": [
    "import pandas as pd\n",
    "import matplotlib.pyplot as plt\n",
    "import seaborn as sns\n",
    "import nltk\n",
    "from sklearn.feature_extraction.text import CountVectorizer\n",
    "from sklearn.model_selection import train_test_split\n",
    "from sklearn.linear_model import LogisticRegression\n",
    "from sklearn.tree import DecisionTreeClassifier\n",
    "from sklearn.ensemble import RandomForestClassifier\n",
    "from wordcloud import WordCloud\n",
    "from sklearn.model_selection import GridSearchCV"
   ]
  },
  {
   "cell_type": "code",
   "execution_count": 2,
   "id": "9e1d61db",
   "metadata": {},
   "outputs": [
    {
     "data": {
      "text/html": [
       "<div>\n",
       "<style scoped>\n",
       "    .dataframe tbody tr th:only-of-type {\n",
       "        vertical-align: middle;\n",
       "    }\n",
       "\n",
       "    .dataframe tbody tr th {\n",
       "        vertical-align: top;\n",
       "    }\n",
       "\n",
       "    .dataframe thead th {\n",
       "        text-align: right;\n",
       "    }\n",
       "</style>\n",
       "<table border=\"1\" class=\"dataframe\">\n",
       "  <thead>\n",
       "    <tr style=\"text-align: right;\">\n",
       "      <th></th>\n",
       "      <th>job_id</th>\n",
       "      <th>title</th>\n",
       "      <th>location</th>\n",
       "      <th>department</th>\n",
       "      <th>salary_range</th>\n",
       "      <th>company_profile</th>\n",
       "      <th>description</th>\n",
       "      <th>requirements</th>\n",
       "      <th>benefits</th>\n",
       "      <th>telecommuting</th>\n",
       "      <th>has_company_logo</th>\n",
       "      <th>has_questions</th>\n",
       "      <th>employment_type</th>\n",
       "      <th>required_experience</th>\n",
       "      <th>required_education</th>\n",
       "      <th>industry</th>\n",
       "      <th>function</th>\n",
       "      <th>fraudulent</th>\n",
       "    </tr>\n",
       "  </thead>\n",
       "  <tbody>\n",
       "    <tr>\n",
       "      <th>0</th>\n",
       "      <td>1</td>\n",
       "      <td>Marketing Intern</td>\n",
       "      <td>US, NY, New York</td>\n",
       "      <td>Marketing</td>\n",
       "      <td>NaN</td>\n",
       "      <td>We're Food52, and we've created a groundbreaki...</td>\n",
       "      <td>Food52, a fast-growing, James Beard Award-winn...</td>\n",
       "      <td>Experience with content management systems a m...</td>\n",
       "      <td>NaN</td>\n",
       "      <td>0</td>\n",
       "      <td>1</td>\n",
       "      <td>0</td>\n",
       "      <td>Other</td>\n",
       "      <td>Internship</td>\n",
       "      <td>NaN</td>\n",
       "      <td>NaN</td>\n",
       "      <td>Marketing</td>\n",
       "      <td>0</td>\n",
       "    </tr>\n",
       "    <tr>\n",
       "      <th>1</th>\n",
       "      <td>2</td>\n",
       "      <td>Customer Service - Cloud Video Production</td>\n",
       "      <td>NZ, , Auckland</td>\n",
       "      <td>Success</td>\n",
       "      <td>NaN</td>\n",
       "      <td>90 Seconds, the worlds Cloud Video Production ...</td>\n",
       "      <td>Organised - Focused - Vibrant - Awesome!Do you...</td>\n",
       "      <td>What we expect from you:Your key responsibilit...</td>\n",
       "      <td>What you will get from usThrough being part of...</td>\n",
       "      <td>0</td>\n",
       "      <td>1</td>\n",
       "      <td>0</td>\n",
       "      <td>Full-time</td>\n",
       "      <td>Not Applicable</td>\n",
       "      <td>NaN</td>\n",
       "      <td>Marketing and Advertising</td>\n",
       "      <td>Customer Service</td>\n",
       "      <td>0</td>\n",
       "    </tr>\n",
       "    <tr>\n",
       "      <th>2</th>\n",
       "      <td>3</td>\n",
       "      <td>Commissioning Machinery Assistant (CMA)</td>\n",
       "      <td>US, IA, Wever</td>\n",
       "      <td>NaN</td>\n",
       "      <td>NaN</td>\n",
       "      <td>Valor Services provides Workforce Solutions th...</td>\n",
       "      <td>Our client, located in Houston, is actively se...</td>\n",
       "      <td>Implement pre-commissioning and commissioning ...</td>\n",
       "      <td>NaN</td>\n",
       "      <td>0</td>\n",
       "      <td>1</td>\n",
       "      <td>0</td>\n",
       "      <td>NaN</td>\n",
       "      <td>NaN</td>\n",
       "      <td>NaN</td>\n",
       "      <td>NaN</td>\n",
       "      <td>NaN</td>\n",
       "      <td>0</td>\n",
       "    </tr>\n",
       "    <tr>\n",
       "      <th>3</th>\n",
       "      <td>4</td>\n",
       "      <td>Account Executive - Washington DC</td>\n",
       "      <td>US, DC, Washington</td>\n",
       "      <td>Sales</td>\n",
       "      <td>NaN</td>\n",
       "      <td>Our passion for improving quality of life thro...</td>\n",
       "      <td>THE COMPANY: ESRI – Environmental Systems Rese...</td>\n",
       "      <td>EDUCATION: Bachelor’s or Master’s in GIS, busi...</td>\n",
       "      <td>Our culture is anything but corporate—we have ...</td>\n",
       "      <td>0</td>\n",
       "      <td>1</td>\n",
       "      <td>0</td>\n",
       "      <td>Full-time</td>\n",
       "      <td>Mid-Senior level</td>\n",
       "      <td>Bachelor's Degree</td>\n",
       "      <td>Computer Software</td>\n",
       "      <td>Sales</td>\n",
       "      <td>0</td>\n",
       "    </tr>\n",
       "    <tr>\n",
       "      <th>4</th>\n",
       "      <td>5</td>\n",
       "      <td>Bill Review Manager</td>\n",
       "      <td>US, FL, Fort Worth</td>\n",
       "      <td>NaN</td>\n",
       "      <td>NaN</td>\n",
       "      <td>SpotSource Solutions LLC is a Global Human Cap...</td>\n",
       "      <td>JOB TITLE: Itemization Review ManagerLOCATION:...</td>\n",
       "      <td>QUALIFICATIONS:RN license in the State of Texa...</td>\n",
       "      <td>Full Benefits Offered</td>\n",
       "      <td>0</td>\n",
       "      <td>1</td>\n",
       "      <td>1</td>\n",
       "      <td>Full-time</td>\n",
       "      <td>Mid-Senior level</td>\n",
       "      <td>Bachelor's Degree</td>\n",
       "      <td>Hospital &amp; Health Care</td>\n",
       "      <td>Health Care Provider</td>\n",
       "      <td>0</td>\n",
       "    </tr>\n",
       "  </tbody>\n",
       "</table>\n",
       "</div>"
      ],
      "text/plain": [
       "   job_id                                      title            location  \\\n",
       "0       1                           Marketing Intern    US, NY, New York   \n",
       "1       2  Customer Service - Cloud Video Production      NZ, , Auckland   \n",
       "2       3    Commissioning Machinery Assistant (CMA)       US, IA, Wever   \n",
       "3       4          Account Executive - Washington DC  US, DC, Washington   \n",
       "4       5                        Bill Review Manager  US, FL, Fort Worth   \n",
       "\n",
       "  department salary_range                                    company_profile  \\\n",
       "0  Marketing          NaN  We're Food52, and we've created a groundbreaki...   \n",
       "1    Success          NaN  90 Seconds, the worlds Cloud Video Production ...   \n",
       "2        NaN          NaN  Valor Services provides Workforce Solutions th...   \n",
       "3      Sales          NaN  Our passion for improving quality of life thro...   \n",
       "4        NaN          NaN  SpotSource Solutions LLC is a Global Human Cap...   \n",
       "\n",
       "                                         description  \\\n",
       "0  Food52, a fast-growing, James Beard Award-winn...   \n",
       "1  Organised - Focused - Vibrant - Awesome!Do you...   \n",
       "2  Our client, located in Houston, is actively se...   \n",
       "3  THE COMPANY: ESRI – Environmental Systems Rese...   \n",
       "4  JOB TITLE: Itemization Review ManagerLOCATION:...   \n",
       "\n",
       "                                        requirements  \\\n",
       "0  Experience with content management systems a m...   \n",
       "1  What we expect from you:Your key responsibilit...   \n",
       "2  Implement pre-commissioning and commissioning ...   \n",
       "3  EDUCATION: Bachelor’s or Master’s in GIS, busi...   \n",
       "4  QUALIFICATIONS:RN license in the State of Texa...   \n",
       "\n",
       "                                            benefits  telecommuting  \\\n",
       "0                                                NaN              0   \n",
       "1  What you will get from usThrough being part of...              0   \n",
       "2                                                NaN              0   \n",
       "3  Our culture is anything but corporate—we have ...              0   \n",
       "4                              Full Benefits Offered              0   \n",
       "\n",
       "   has_company_logo  has_questions employment_type required_experience  \\\n",
       "0                 1              0           Other          Internship   \n",
       "1                 1              0       Full-time      Not Applicable   \n",
       "2                 1              0             NaN                 NaN   \n",
       "3                 1              0       Full-time    Mid-Senior level   \n",
       "4                 1              1       Full-time    Mid-Senior level   \n",
       "\n",
       "  required_education                   industry              function  \\\n",
       "0                NaN                        NaN             Marketing   \n",
       "1                NaN  Marketing and Advertising      Customer Service   \n",
       "2                NaN                        NaN                   NaN   \n",
       "3  Bachelor's Degree          Computer Software                 Sales   \n",
       "4  Bachelor's Degree     Hospital & Health Care  Health Care Provider   \n",
       "\n",
       "   fraudulent  \n",
       "0           0  \n",
       "1           0  \n",
       "2           0  \n",
       "3           0  \n",
       "4           0  "
      ]
     },
     "execution_count": 2,
     "metadata": {},
     "output_type": "execute_result"
    }
   ],
   "source": [
    "df=pd.read_csv(r'C:\\Users\\Lenovo\\Desktop\\dataseti\\fake_job_postings.csv')\n",
    "df.head(5)"
   ]
  },
  {
   "cell_type": "code",
   "execution_count": 3,
   "id": "987563f8",
   "metadata": {},
   "outputs": [
    {
     "data": {
      "text/plain": [
       "(17880, 18)"
      ]
     },
     "execution_count": 3,
     "metadata": {},
     "output_type": "execute_result"
    }
   ],
   "source": [
    "df.shape"
   ]
  },
  {
   "cell_type": "code",
   "execution_count": 4,
   "id": "cf28e829",
   "metadata": {},
   "outputs": [
    {
     "data": {
      "text/plain": [
       "location                 346\n",
       "department             11547\n",
       "salary_range           15012\n",
       "company_profile         3308\n",
       "description                1\n",
       "requirements            2695\n",
       "benefits                7210\n",
       "employment_type         3471\n",
       "required_experience     7050\n",
       "required_education      8105\n",
       "industry                4903\n",
       "function                6455\n",
       "dtype: int64"
      ]
     },
     "execution_count": 4,
     "metadata": {},
     "output_type": "execute_result"
    }
   ],
   "source": [
    "df.isnull().sum()[df.isnull().sum()>0]"
   ]
  },
  {
   "cell_type": "code",
   "execution_count": 5,
   "id": "e0efe3c3",
   "metadata": {},
   "outputs": [
    {
     "data": {
      "text/plain": [
       "salary_range           83.959732\n",
       "department             64.580537\n",
       "required_education     45.329978\n",
       "benefits               40.324385\n",
       "required_experience    39.429530\n",
       "function               36.101790\n",
       "industry               27.421700\n",
       "employment_type        19.412752\n",
       "company_profile        18.501119\n",
       "requirements           15.072707\n",
       "location                1.935123\n",
       "description             0.005593\n",
       "job_id                  0.000000\n",
       "telecommuting           0.000000\n",
       "has_questions           0.000000\n",
       "has_company_logo        0.000000\n",
       "title                   0.000000\n",
       "fraudulent              0.000000\n",
       "dtype: float64"
      ]
     },
     "execution_count": 5,
     "metadata": {},
     "output_type": "execute_result"
    }
   ],
   "source": [
    "df.isnull().sum().sort_values(ascending=False)/len(df.index)*100"
   ]
  },
  {
   "cell_type": "code",
   "execution_count": 6,
   "id": "0e29d8a2",
   "metadata": {},
   "outputs": [],
   "source": [
    "df.drop(['job_id' , 'salary_range' , 'telecommuting' , 'has_company_logo' , 'has_questions','employment_type'] , axis = 1,inplace = True)"
   ]
  },
  {
   "cell_type": "code",
   "execution_count": 7,
   "id": "b71414e7",
   "metadata": {},
   "outputs": [
    {
     "data": {
      "text/html": [
       "<div>\n",
       "<style scoped>\n",
       "    .dataframe tbody tr th:only-of-type {\n",
       "        vertical-align: middle;\n",
       "    }\n",
       "\n",
       "    .dataframe tbody tr th {\n",
       "        vertical-align: top;\n",
       "    }\n",
       "\n",
       "    .dataframe thead th {\n",
       "        text-align: right;\n",
       "    }\n",
       "</style>\n",
       "<table border=\"1\" class=\"dataframe\">\n",
       "  <thead>\n",
       "    <tr style=\"text-align: right;\">\n",
       "      <th></th>\n",
       "      <th>title</th>\n",
       "      <th>location</th>\n",
       "      <th>department</th>\n",
       "      <th>company_profile</th>\n",
       "      <th>description</th>\n",
       "      <th>requirements</th>\n",
       "      <th>benefits</th>\n",
       "      <th>required_experience</th>\n",
       "      <th>required_education</th>\n",
       "      <th>industry</th>\n",
       "      <th>function</th>\n",
       "      <th>fraudulent</th>\n",
       "    </tr>\n",
       "  </thead>\n",
       "  <tbody>\n",
       "    <tr>\n",
       "      <th>0</th>\n",
       "      <td>Marketing Intern</td>\n",
       "      <td>US, NY, New York</td>\n",
       "      <td>Marketing</td>\n",
       "      <td>We're Food52, and we've created a groundbreaki...</td>\n",
       "      <td>Food52, a fast-growing, James Beard Award-winn...</td>\n",
       "      <td>Experience with content management systems a m...</td>\n",
       "      <td>NaN</td>\n",
       "      <td>Internship</td>\n",
       "      <td>NaN</td>\n",
       "      <td>NaN</td>\n",
       "      <td>Marketing</td>\n",
       "      <td>0</td>\n",
       "    </tr>\n",
       "    <tr>\n",
       "      <th>1</th>\n",
       "      <td>Customer Service - Cloud Video Production</td>\n",
       "      <td>NZ, , Auckland</td>\n",
       "      <td>Success</td>\n",
       "      <td>90 Seconds, the worlds Cloud Video Production ...</td>\n",
       "      <td>Organised - Focused - Vibrant - Awesome!Do you...</td>\n",
       "      <td>What we expect from you:Your key responsibilit...</td>\n",
       "      <td>What you will get from usThrough being part of...</td>\n",
       "      <td>Not Applicable</td>\n",
       "      <td>NaN</td>\n",
       "      <td>Marketing and Advertising</td>\n",
       "      <td>Customer Service</td>\n",
       "      <td>0</td>\n",
       "    </tr>\n",
       "  </tbody>\n",
       "</table>\n",
       "</div>"
      ],
      "text/plain": [
       "                                       title          location department  \\\n",
       "0                           Marketing Intern  US, NY, New York  Marketing   \n",
       "1  Customer Service - Cloud Video Production    NZ, , Auckland    Success   \n",
       "\n",
       "                                     company_profile  \\\n",
       "0  We're Food52, and we've created a groundbreaki...   \n",
       "1  90 Seconds, the worlds Cloud Video Production ...   \n",
       "\n",
       "                                         description  \\\n",
       "0  Food52, a fast-growing, James Beard Award-winn...   \n",
       "1  Organised - Focused - Vibrant - Awesome!Do you...   \n",
       "\n",
       "                                        requirements  \\\n",
       "0  Experience with content management systems a m...   \n",
       "1  What we expect from you:Your key responsibilit...   \n",
       "\n",
       "                                            benefits required_experience  \\\n",
       "0                                                NaN          Internship   \n",
       "1  What you will get from usThrough being part of...      Not Applicable   \n",
       "\n",
       "  required_education                   industry          function  fraudulent  \n",
       "0                NaN                        NaN         Marketing           0  \n",
       "1                NaN  Marketing and Advertising  Customer Service           0  "
      ]
     },
     "execution_count": 7,
     "metadata": {},
     "output_type": "execute_result"
    }
   ],
   "source": [
    "df.head(2)"
   ]
  },
  {
   "cell_type": "code",
   "execution_count": 8,
   "id": "6e222681",
   "metadata": {},
   "outputs": [
    {
     "data": {
      "text/plain": [
       "location                 346\n",
       "department             11547\n",
       "company_profile         3308\n",
       "description                1\n",
       "requirements            2695\n",
       "benefits                7210\n",
       "required_experience     7050\n",
       "required_education      8105\n",
       "industry                4903\n",
       "function                6455\n",
       "dtype: int64"
      ]
     },
     "execution_count": 8,
     "metadata": {},
     "output_type": "execute_result"
    }
   ],
   "source": [
    "df.isnull().sum()[df.isnull().sum()>0]"
   ]
  },
  {
   "cell_type": "code",
   "execution_count": 9,
   "id": "13f879c6",
   "metadata": {},
   "outputs": [],
   "source": [
    "df.fillna('',inplace=True)"
   ]
  },
  {
   "cell_type": "code",
   "execution_count": 10,
   "id": "179df6e8",
   "metadata": {},
   "outputs": [
    {
     "data": {
      "text/plain": [
       "Series([], dtype: int64)"
      ]
     },
     "execution_count": 10,
     "metadata": {},
     "output_type": "execute_result"
    }
   ],
   "source": [
    "df.isnull().sum()[df.isnull().sum()>0]"
   ]
  },
  {
   "cell_type": "code",
   "execution_count": 11,
   "id": "42802bfd",
   "metadata": {},
   "outputs": [
    {
     "data": {
      "text/plain": [
       "{'': 7050,\n",
       " 'Mid-Senior level': 3809,\n",
       " 'Entry level': 2697,\n",
       " 'Associate': 2297,\n",
       " 'Not Applicable': 1116,\n",
       " 'Director': 389,\n",
       " 'Internship': 381,\n",
       " 'Executive': 141}"
      ]
     },
     "execution_count": 11,
     "metadata": {},
     "output_type": "execute_result"
    }
   ],
   "source": [
    "exp=dict(df.required_experience.value_counts())\n",
    "exp"
   ]
  },
  {
   "cell_type": "code",
   "execution_count": 12,
   "id": "fe754e1f",
   "metadata": {},
   "outputs": [
    {
     "data": {
      "image/png": "[encoded data removed]",
      "text/plain": [
       "<Figure size 1000x500 with 1 Axes>"
      ]
     },
     "metadata": {},
     "output_type": "display_data"
    }
   ],
   "source": [
    "plt.figure(figsize=(10,5))\n",
    "sns.set_theme(style='whitegrid')\n",
    "plt.bar(exp.keys(),exp.values())\n",
    "plt.title('No of jobs with experience',size=20)\n",
    "plt.xlabel('Experience',size=10)\n",
    "plt.ylabel('No of jobs',size=10)\n",
    "plt.xticks(rotation=20)\n",
    "plt.show() "
   ]
  },
  {
   "cell_type": "code",
   "execution_count": 13,
   "id": "7e09c5c4",
   "metadata": {},
   "outputs": [],
   "source": [
    "def split(location):\n",
    "    l=location.split(',')\n",
    "    return l[0]\n",
    "df['country']=df.location.apply(split) "
   ]
  },
  {
   "cell_type": "code",
   "execution_count": 14,
   "id": "d5ab2102",
   "metadata": {},
   "outputs": [
    {
     "data": {
      "text/plain": [
       "{'US': 10656,\n",
       " 'GB': 2384,\n",
       " 'GR': 940,\n",
       " 'CA': 457,\n",
       " 'DE': 383,\n",
       " 'NZ': 333,\n",
       " 'IN': 276,\n",
       " 'AU': 214,\n",
       " 'PH': 132,\n",
       " 'NL': 127,\n",
       " 'BE': 117,\n",
       " 'IE': 114,\n",
       " 'SG': 80}"
      ]
     },
     "execution_count": 14,
     "metadata": {},
     "output_type": "execute_result"
    }
   ],
   "source": [
    "countr=dict(df.country.value_counts()[:14])\n",
    "del countr['']\n",
    "countr"
   ]
  },
  {
   "cell_type": "code",
   "execution_count": 15,
   "id": "1fac0259",
   "metadata": {},
   "outputs": [
    {
     "data": {
      "image/png": "[encoded data removed]",
      "text/plain": [
       "<Figure size 1000x500 with 1 Axes>"
      ]
     },
     "metadata": {},
     "output_type": "display_data"
    }
   ],
   "source": [
    "plt.figure(figsize=(10,5))\n",
    "sns.set_theme(style='whitegrid')\n",
    "plt.bar(countr.keys(),countr.values())\n",
    "plt.title('Country-wise Job Posting',size=20)\n",
    "plt.xlabel('country',size=10)\n",
    "plt.ylabel('No of jobs',size=10)\n",
    "plt.xticks(rotation=30)\n",
    "plt.show() "
   ]
  },
  {
   "cell_type": "code",
   "execution_count": 16,
   "id": "dc431317",
   "metadata": {},
   "outputs": [
    {
     "data": {
      "text/plain": [
       "{\"Bachelor's Degree\": 5145,\n",
       " 'High School or equivalent': 2080,\n",
       " 'Unspecified': 1397,\n",
       " \"Master's Degree\": 416,\n",
       " 'Associate Degree': 274,\n",
       " 'Certification': 170}"
      ]
     },
     "execution_count": 16,
     "metadata": {},
     "output_type": "execute_result"
    }
   ],
   "source": [
    "edu=dict(df.required_education.value_counts()[:7])\n",
    "del edu['']\n",
    "edu"
   ]
  },
  {
   "cell_type": "code",
   "execution_count": 17,
   "id": "9109e19c",
   "metadata": {},
   "outputs": [
    {
     "data": {
      "image/png": "[encoded data removed]",
      "text/plain": [
       "<Figure size 1000x500 with 1 Axes>"
      ]
     },
     "metadata": {},
     "output_type": "display_data"
    }
   ],
   "source": [
    "plt.figure(figsize=(10,5))\n",
    "sns.set_theme(style='whitegrid')\n",
    "plt.bar(edu.keys(),edu.values())\n",
    "plt.title('Education wise Job Posting',size=20)\n",
    "plt.xlabel('Education',size=10)\n",
    "plt.ylabel('No of jobs',size=10)\n",
    "plt.xticks(rotation=30)\n",
    "plt.show() "
   ]
  },
  {
   "cell_type": "markdown",
   "id": "6dc30b68",
   "metadata": {},
   "source": [
    "## Data Pre-Processing"
   ]
  },
  {
   "cell_type": "code",
   "execution_count": 18,
   "id": "e3770f91",
   "metadata": {},
   "outputs": [],
   "source": [
    "df['x']=df.title.apply(str)+\" \"+df.company_profile.apply(str)+\" \"+df.description.apply(str)+\" \"+df.requirements.apply(str)+\" \"+df.required_experience.apply(str)+\" \"+df.required_education.apply(str)+\" \"+df.benefits.apply(str)"
   ]
  },
  {
   "cell_type": "code",
   "execution_count": 19,
   "id": "f9008205",
   "metadata": {},
   "outputs": [
    {
     "data": {
      "text/html": [
       "<div>\n",
       "<style scoped>\n",
       "    .dataframe tbody tr th:only-of-type {\n",
       "        vertical-align: middle;\n",
       "    }\n",
       "\n",
       "    .dataframe tbody tr th {\n",
       "        vertical-align: top;\n",
       "    }\n",
       "\n",
       "    .dataframe thead th {\n",
       "        text-align: right;\n",
       "    }\n",
       "</style>\n",
       "<table border=\"1\" class=\"dataframe\">\n",
       "  <thead>\n",
       "    <tr style=\"text-align: right;\">\n",
       "      <th></th>\n",
       "      <th>title</th>\n",
       "      <th>location</th>\n",
       "      <th>department</th>\n",
       "      <th>company_profile</th>\n",
       "      <th>description</th>\n",
       "      <th>requirements</th>\n",
       "      <th>benefits</th>\n",
       "      <th>required_experience</th>\n",
       "      <th>required_education</th>\n",
       "      <th>industry</th>\n",
       "      <th>function</th>\n",
       "      <th>fraudulent</th>\n",
       "      <th>country</th>\n",
       "      <th>x</th>\n",
       "    </tr>\n",
       "  </thead>\n",
       "  <tbody>\n",
       "    <tr>\n",
       "      <th>0</th>\n",
       "      <td>Marketing Intern</td>\n",
       "      <td>US, NY, New York</td>\n",
       "      <td>Marketing</td>\n",
       "      <td>We're Food52, and we've created a groundbreaki...</td>\n",
       "      <td>Food52, a fast-growing, James Beard Award-winn...</td>\n",
       "      <td>Experience with content management systems a m...</td>\n",
       "      <td></td>\n",
       "      <td>Internship</td>\n",
       "      <td></td>\n",
       "      <td></td>\n",
       "      <td>Marketing</td>\n",
       "      <td>0</td>\n",
       "      <td>US</td>\n",
       "      <td>Marketing Intern We're Food52, and we've creat...</td>\n",
       "    </tr>\n",
       "    <tr>\n",
       "      <th>1</th>\n",
       "      <td>Customer Service - Cloud Video Production</td>\n",
       "      <td>NZ, , Auckland</td>\n",
       "      <td>Success</td>\n",
       "      <td>90 Seconds, the worlds Cloud Video Production ...</td>\n",
       "      <td>Organised - Focused - Vibrant - Awesome!Do you...</td>\n",
       "      <td>What we expect from you:Your key responsibilit...</td>\n",
       "      <td>What you will get from usThrough being part of...</td>\n",
       "      <td>Not Applicable</td>\n",
       "      <td></td>\n",
       "      <td>Marketing and Advertising</td>\n",
       "      <td>Customer Service</td>\n",
       "      <td>0</td>\n",
       "      <td>NZ</td>\n",
       "      <td>Customer Service - Cloud Video Production 90 S...</td>\n",
       "    </tr>\n",
       "  </tbody>\n",
       "</table>\n",
       "</div>"
      ],
      "text/plain": [
       "                                       title          location department  \\\n",
       "0                           Marketing Intern  US, NY, New York  Marketing   \n",
       "1  Customer Service - Cloud Video Production    NZ, , Auckland    Success   \n",
       "\n",
       "                                     company_profile  \\\n",
       "0  We're Food52, and we've created a groundbreaki...   \n",
       "1  90 Seconds, the worlds Cloud Video Production ...   \n",
       "\n",
       "                                         description  \\\n",
       "0  Food52, a fast-growing, James Beard Award-winn...   \n",
       "1  Organised - Focused - Vibrant - Awesome!Do you...   \n",
       "\n",
       "                                        requirements  \\\n",
       "0  Experience with content management systems a m...   \n",
       "1  What we expect from you:Your key responsibilit...   \n",
       "\n",
       "                                            benefits required_experience  \\\n",
       "0                                                             Internship   \n",
       "1  What you will get from usThrough being part of...      Not Applicable   \n",
       "\n",
       "  required_education                   industry          function  fraudulent  \\\n",
       "0                                                       Marketing           0   \n",
       "1                     Marketing and Advertising  Customer Service           0   \n",
       "\n",
       "  country                                                  x  \n",
       "0      US  Marketing Intern We're Food52, and we've creat...  \n",
       "1      NZ  Customer Service - Cloud Video Production 90 S...  "
      ]
     },
     "execution_count": 19,
     "metadata": {},
     "output_type": "execute_result"
    }
   ],
   "source": [
    "df.head(2)"
   ]
  },
  {
   "cell_type": "code",
   "execution_count": 20,
   "id": "720d287a",
   "metadata": {},
   "outputs": [],
   "source": [
    "df=df.loc[:,['x','fraudulent']]"
   ]
  },
  {
   "cell_type": "code",
   "execution_count": 21,
   "id": "1d1935be",
   "metadata": {},
   "outputs": [
    {
     "data": {
      "text/html": [
       "<div>\n",
       "<style scoped>\n",
       "    .dataframe tbody tr th:only-of-type {\n",
       "        vertical-align: middle;\n",
       "    }\n",
       "\n",
       "    .dataframe tbody tr th {\n",
       "        vertical-align: top;\n",
       "    }\n",
       "\n",
       "    .dataframe thead th {\n",
       "        text-align: right;\n",
       "    }\n",
       "</style>\n",
       "<table border=\"1\" class=\"dataframe\">\n",
       "  <thead>\n",
       "    <tr style=\"text-align: right;\">\n",
       "      <th></th>\n",
       "      <th>x</th>\n",
       "      <th>fraudulent</th>\n",
       "    </tr>\n",
       "  </thead>\n",
       "  <tbody>\n",
       "    <tr>\n",
       "      <th>0</th>\n",
       "      <td>Marketing Intern We're Food52, and we've creat...</td>\n",
       "      <td>0</td>\n",
       "    </tr>\n",
       "    <tr>\n",
       "      <th>1</th>\n",
       "      <td>Customer Service - Cloud Video Production 90 S...</td>\n",
       "      <td>0</td>\n",
       "    </tr>\n",
       "    <tr>\n",
       "      <th>2</th>\n",
       "      <td>Commissioning Machinery Assistant (CMA) Valor ...</td>\n",
       "      <td>0</td>\n",
       "    </tr>\n",
       "    <tr>\n",
       "      <th>3</th>\n",
       "      <td>Account Executive - Washington DC Our passion ...</td>\n",
       "      <td>0</td>\n",
       "    </tr>\n",
       "    <tr>\n",
       "      <th>4</th>\n",
       "      <td>Bill Review Manager SpotSource Solutions LLC i...</td>\n",
       "      <td>0</td>\n",
       "    </tr>\n",
       "    <tr>\n",
       "      <th>...</th>\n",
       "      <td>...</td>\n",
       "      <td>...</td>\n",
       "    </tr>\n",
       "    <tr>\n",
       "      <th>17875</th>\n",
       "      <td>Account Director - Distribution  Vend is looki...</td>\n",
       "      <td>0</td>\n",
       "    </tr>\n",
       "    <tr>\n",
       "      <th>17876</th>\n",
       "      <td>Payroll Accountant WebLinc is the e-commerce p...</td>\n",
       "      <td>0</td>\n",
       "    </tr>\n",
       "    <tr>\n",
       "      <th>17877</th>\n",
       "      <td>Project Cost Control Staff Engineer - Cost Con...</td>\n",
       "      <td>0</td>\n",
       "    </tr>\n",
       "    <tr>\n",
       "      <th>17878</th>\n",
       "      <td>Graphic Designer  Nemsia Studios is looking fo...</td>\n",
       "      <td>0</td>\n",
       "    </tr>\n",
       "    <tr>\n",
       "      <th>17879</th>\n",
       "      <td>Web Application Developers Vend is looking for...</td>\n",
       "      <td>0</td>\n",
       "    </tr>\n",
       "  </tbody>\n",
       "</table>\n",
       "<p>17880 rows × 2 columns</p>\n",
       "</div>"
      ],
      "text/plain": [
       "                                                       x  fraudulent\n",
       "0      Marketing Intern We're Food52, and we've creat...           0\n",
       "1      Customer Service - Cloud Video Production 90 S...           0\n",
       "2      Commissioning Machinery Assistant (CMA) Valor ...           0\n",
       "3      Account Executive - Washington DC Our passion ...           0\n",
       "4      Bill Review Manager SpotSource Solutions LLC i...           0\n",
       "...                                                  ...         ...\n",
       "17875  Account Director - Distribution  Vend is looki...           0\n",
       "17876  Payroll Accountant WebLinc is the e-commerce p...           0\n",
       "17877  Project Cost Control Staff Engineer - Cost Con...           0\n",
       "17878  Graphic Designer  Nemsia Studios is looking fo...           0\n",
       "17879  Web Application Developers Vend is looking for...           0\n",
       "\n",
       "[17880 rows x 2 columns]"
      ]
     },
     "execution_count": 21,
     "metadata": {},
     "output_type": "execute_result"
    }
   ],
   "source": [
    "df"
   ]
  },
  {
   "cell_type": "code",
   "execution_count": 22,
   "id": "b0a1d7d1",
   "metadata": {},
   "outputs": [
    {
     "data": {
      "text/html": [
       "<div>\n",
       "<style scoped>\n",
       "    .dataframe tbody tr th:only-of-type {\n",
       "        vertical-align: middle;\n",
       "    }\n",
       "\n",
       "    .dataframe tbody tr th {\n",
       "        vertical-align: top;\n",
       "    }\n",
       "\n",
       "    .dataframe thead th {\n",
       "        text-align: right;\n",
       "    }\n",
       "</style>\n",
       "<table border=\"1\" class=\"dataframe\">\n",
       "  <thead>\n",
       "    <tr style=\"text-align: right;\">\n",
       "      <th></th>\n",
       "      <th>x</th>\n",
       "      <th>y</th>\n",
       "    </tr>\n",
       "  </thead>\n",
       "  <tbody>\n",
       "    <tr>\n",
       "      <th>0</th>\n",
       "      <td>Marketing Intern We're Food52, and we've creat...</td>\n",
       "      <td>0</td>\n",
       "    </tr>\n",
       "    <tr>\n",
       "      <th>1</th>\n",
       "      <td>Customer Service - Cloud Video Production 90 S...</td>\n",
       "      <td>0</td>\n",
       "    </tr>\n",
       "    <tr>\n",
       "      <th>2</th>\n",
       "      <td>Commissioning Machinery Assistant (CMA) Valor ...</td>\n",
       "      <td>0</td>\n",
       "    </tr>\n",
       "    <tr>\n",
       "      <th>3</th>\n",
       "      <td>Account Executive - Washington DC Our passion ...</td>\n",
       "      <td>0</td>\n",
       "    </tr>\n",
       "    <tr>\n",
       "      <th>4</th>\n",
       "      <td>Bill Review Manager SpotSource Solutions LLC i...</td>\n",
       "      <td>0</td>\n",
       "    </tr>\n",
       "    <tr>\n",
       "      <th>...</th>\n",
       "      <td>...</td>\n",
       "      <td>...</td>\n",
       "    </tr>\n",
       "    <tr>\n",
       "      <th>17875</th>\n",
       "      <td>Account Director - Distribution  Vend is looki...</td>\n",
       "      <td>0</td>\n",
       "    </tr>\n",
       "    <tr>\n",
       "      <th>17876</th>\n",
       "      <td>Payroll Accountant WebLinc is the e-commerce p...</td>\n",
       "      <td>0</td>\n",
       "    </tr>\n",
       "    <tr>\n",
       "      <th>17877</th>\n",
       "      <td>Project Cost Control Staff Engineer - Cost Con...</td>\n",
       "      <td>0</td>\n",
       "    </tr>\n",
       "    <tr>\n",
       "      <th>17878</th>\n",
       "      <td>Graphic Designer  Nemsia Studios is looking fo...</td>\n",
       "      <td>0</td>\n",
       "    </tr>\n",
       "    <tr>\n",
       "      <th>17879</th>\n",
       "      <td>Web Application Developers Vend is looking for...</td>\n",
       "      <td>0</td>\n",
       "    </tr>\n",
       "  </tbody>\n",
       "</table>\n",
       "<p>17880 rows × 2 columns</p>\n",
       "</div>"
      ],
      "text/plain": [
       "                                                       x  y\n",
       "0      Marketing Intern We're Food52, and we've creat...  0\n",
       "1      Customer Service - Cloud Video Production 90 S...  0\n",
       "2      Commissioning Machinery Assistant (CMA) Valor ...  0\n",
       "3      Account Executive - Washington DC Our passion ...  0\n",
       "4      Bill Review Manager SpotSource Solutions LLC i...  0\n",
       "...                                                  ... ..\n",
       "17875  Account Director - Distribution  Vend is looki...  0\n",
       "17876  Payroll Accountant WebLinc is the e-commerce p...  0\n",
       "17877  Project Cost Control Staff Engineer - Cost Con...  0\n",
       "17878  Graphic Designer  Nemsia Studios is looking fo...  0\n",
       "17879  Web Application Developers Vend is looking for...  0\n",
       "\n",
       "[17880 rows x 2 columns]"
      ]
     },
     "execution_count": 22,
     "metadata": {},
     "output_type": "execute_result"
    }
   ],
   "source": [
    "df.rename(columns={'fraudulent':'y'},inplace=True)\n",
    "df"
   ]
  },
  {
   "cell_type": "code",
   "execution_count": 23,
   "id": "8e8e474f",
   "metadata": {},
   "outputs": [
    {
     "data": {
      "text/plain": [
       "0        marketing intern we're food52, and we've creat...\n",
       "1        customer service - cloud video production 90 s...\n",
       "2        commissioning machinery assistant (cma) valor ...\n",
       "3        account executive - washington dc our passion ...\n",
       "4        bill review manager spotsource solutions llc i...\n",
       "                               ...                        \n",
       "17875    account director - distribution  vend is looki...\n",
       "17876    payroll accountant weblinc is the e-commerce p...\n",
       "17877    project cost control staff engineer - cost con...\n",
       "17878    graphic designer  nemsia studios is looking fo...\n",
       "17879    web application developers vend is looking for...\n",
       "Name: x, Length: 17880, dtype: object"
      ]
     },
     "execution_count": 23,
     "metadata": {},
     "output_type": "execute_result"
    }
   ],
   "source": [
    "df.x.str.lower() "
   ]
  },
  {
   "cell_type": "code",
   "execution_count": 24,
   "id": "b41a004c",
   "metadata": {},
   "outputs": [
    {
     "name": "stderr",
     "output_type": "stream",
     "text": [
      "[nltk_data] Downloading package stopwords to\n",
      "[nltk_data]     C:\\Users\\Lenovo\\AppData\\Roaming\\nltk_data...\n",
      "[nltk_data]   Package stopwords is already up-to-date!\n"
     ]
    },
    {
     "data": {
      "text/plain": [
       "['i',\n",
       " 'me',\n",
       " 'my',\n",
       " 'myself',\n",
       " 'we',\n",
       " 'our',\n",
       " 'ours',\n",
       " 'ourselves',\n",
       " 'you',\n",
       " \"you're\",\n",
       " \"you've\",\n",
       " \"you'll\",\n",
       " \"you'd\",\n",
       " 'your',\n",
       " 'yours',\n",
       " 'yourself',\n",
       " 'yourselves',\n",
       " 'he',\n",
       " 'him',\n",
       " 'his',\n",
       " 'himself',\n",
       " 'she',\n",
       " \"she's\",\n",
       " 'her',\n",
       " 'hers',\n",
       " 'herself',\n",
       " 'it',\n",
       " \"it's\",\n",
       " 'its',\n",
       " 'itself',\n",
       " 'they',\n",
       " 'them',\n",
       " 'their',\n",
       " 'theirs',\n",
       " 'themselves',\n",
       " 'what',\n",
       " 'which',\n",
       " 'who',\n",
       " 'whom',\n",
       " 'this',\n",
       " 'that',\n",
       " \"that'll\",\n",
       " 'these',\n",
       " 'those',\n",
       " 'am',\n",
       " 'is',\n",
       " 'are',\n",
       " 'was',\n",
       " 'were',\n",
       " 'be',\n",
       " 'been',\n",
       " 'being',\n",
       " 'have',\n",
       " 'has',\n",
       " 'had',\n",
       " 'having',\n",
       " 'do',\n",
       " 'does',\n",
       " 'did',\n",
       " 'doing',\n",
       " 'a',\n",
       " 'an',\n",
       " 'the',\n",
       " 'and',\n",
       " 'but',\n",
       " 'if',\n",
       " 'or',\n",
       " 'because',\n",
       " 'as',\n",
       " 'until',\n",
       " 'while',\n",
       " 'of',\n",
       " 'at',\n",
       " 'by',\n",
       " 'for',\n",
       " 'with',\n",
       " 'about',\n",
       " 'against',\n",
       " 'between',\n",
       " 'into',\n",
       " 'through',\n",
       " 'during',\n",
       " 'before',\n",
       " 'after',\n",
       " 'above',\n",
       " 'below',\n",
       " 'to',\n",
       " 'from',\n",
       " 'up',\n",
       " 'down',\n",
       " 'in',\n",
       " 'out',\n",
       " 'on',\n",
       " 'off',\n",
       " 'over',\n",
       " 'under',\n",
       " 'again',\n",
       " 'further',\n",
       " 'then',\n",
       " 'once',\n",
       " 'here',\n",
       " 'there',\n",
       " 'when',\n",
       " 'where',\n",
       " 'why',\n",
       " 'how',\n",
       " 'all',\n",
       " 'any',\n",
       " 'both',\n",
       " 'each',\n",
       " 'few',\n",
       " 'more',\n",
       " 'most',\n",
       " 'other',\n",
       " 'some',\n",
       " 'such',\n",
       " 'no',\n",
       " 'nor',\n",
       " 'not',\n",
       " 'only',\n",
       " 'own',\n",
       " 'same',\n",
       " 'so',\n",
       " 'than',\n",
       " 'too',\n",
       " 'very',\n",
       " 's',\n",
       " 't',\n",
       " 'can',\n",
       " 'will',\n",
       " 'just',\n",
       " 'don',\n",
       " \"don't\",\n",
       " 'should',\n",
       " \"should've\",\n",
       " 'now',\n",
       " 'd',\n",
       " 'll',\n",
       " 'm',\n",
       " 'o',\n",
       " 're',\n",
       " 've',\n",
       " 'y',\n",
       " 'ain',\n",
       " 'aren',\n",
       " \"aren't\",\n",
       " 'couldn',\n",
       " \"couldn't\",\n",
       " 'didn',\n",
       " \"didn't\",\n",
       " 'doesn',\n",
       " \"doesn't\",\n",
       " 'hadn',\n",
       " \"hadn't\",\n",
       " 'hasn',\n",
       " \"hasn't\",\n",
       " 'haven',\n",
       " \"haven't\",\n",
       " 'isn',\n",
       " \"isn't\",\n",
       " 'ma',\n",
       " 'mightn',\n",
       " \"mightn't\",\n",
       " 'mustn',\n",
       " \"mustn't\",\n",
       " 'needn',\n",
       " \"needn't\",\n",
       " 'shan',\n",
       " \"shan't\",\n",
       " 'shouldn',\n",
       " \"shouldn't\",\n",
       " 'wasn',\n",
       " \"wasn't\",\n",
       " 'weren',\n",
       " \"weren't\",\n",
       " 'won',\n",
       " \"won't\",\n",
       " 'wouldn',\n",
       " \"wouldn't\"]"
      ]
     },
     "execution_count": 24,
     "metadata": {},
     "output_type": "execute_result"
    }
   ],
   "source": [
    "import nltk \n",
    "nltk.download('stopwords')\n",
    "from nltk.corpus import stopwords\n",
    "stopwords.words('english')"
   ]
  },
  {
   "cell_type": "code",
   "execution_count": 25,
   "id": "7f2bcb43",
   "metadata": {},
   "outputs": [
    {
     "data": {
      "text/plain": [
       "'!\"#$%&\\'()*+,-./:;<=>?@[\\\\]^_`{|}~'"
      ]
     },
     "execution_count": 25,
     "metadata": {},
     "output_type": "execute_result"
    }
   ],
   "source": [
    "import string\n",
    "string.punctuation"
   ]
  },
  {
   "cell_type": "code",
   "execution_count": 26,
   "id": "4974f6d1",
   "metadata": {},
   "outputs": [],
   "source": [
    "l1=list(stopwords.words('english'))"
   ]
  },
  {
   "cell_type": "code",
   "execution_count": 27,
   "id": "9f7600ec",
   "metadata": {},
   "outputs": [],
   "source": [
    "def text_process(mess):\n",
    "    \"\"\"\"\n",
    "    1. remove the punctuation\n",
    "    2. remove the stopwords\n",
    "    3. return the list of clean textwords\n",
    "    \"\"\"\n",
    "    nopunc = [char for char in mess if char not in string.punctuation]\n",
    "    nopunc = \"\".join(nopunc)\n",
    "    \n",
    "    return [word for word in nopunc.split() if word not in l1]"
   ]
  },
  {
   "cell_type": "code",
   "execution_count": 28,
   "id": "47752bdf",
   "metadata": {},
   "outputs": [],
   "source": [
    "from sklearn.feature_extraction.text import CountVectorizer"
   ]
  },
  {
   "cell_type": "code",
   "execution_count": 29,
   "id": "5d6d8eda",
   "metadata": {},
   "outputs": [],
   "source": [
    "bow_transformer=CountVectorizer(analyzer=text_process).fit(df['x'])"
   ]
  },
  {
   "cell_type": "code",
   "execution_count": 30,
   "id": "a3d4fedb",
   "metadata": {},
   "outputs": [
    {
     "data": {
      "text/plain": [
       "{'Marketing': 34896,\n",
       " 'Intern': 29342,\n",
       " 'Were': 61050,\n",
       " 'Food52': 23409,\n",
       " 'weve': 183534,\n",
       " 'created': 85292,\n",
       " 'groundbreaking': 108891,\n",
       " 'awardwinning': 71082,\n",
       " 'cooking': 84353,\n",
       " 'site': 162656,\n",
       " 'We': 60740,\n",
       " 'support': 170028,\n",
       " 'connect': 82982,\n",
       " 'celebrate': 77192,\n",
       " 'home': 111368,\n",
       " 'cooks': 84357,\n",
       " 'give': 107938,\n",
       " 'everything': 100286,\n",
       " 'need': 130612,\n",
       " 'one': 133862,\n",
       " 'placeWe': 140339,\n",
       " 'top': 177261,\n",
       " 'editorial': 94927,\n",
       " 'business': 74934,\n",
       " 'engineering': 96749,\n",
       " 'team': 172113,\n",
       " 'focused': 105025,\n",
       " 'using': 180583,\n",
       " 'technology': 173721,\n",
       " 'find': 104273,\n",
       " 'new': 131612,\n",
       " 'better': 72898,\n",
       " 'ways': 182553,\n",
       " 'people': 138547,\n",
       " 'around': 69071,\n",
       " 'specific': 165828,\n",
       " 'food': 105420,\n",
       " 'interests': 116943,\n",
       " 'offer': 132987,\n",
       " 'superb': 169641,\n",
       " 'highly': 110987,\n",
       " 'curated': 86001,\n",
       " 'information': 115127,\n",
       " 'attract': 70418,\n",
       " 'talented': 171486,\n",
       " 'contributors': 84081,\n",
       " 'country': 84916,\n",
       " 'also': 65879,\n",
       " 'publish': 149931,\n",
       " 'wellknown': 183435,\n",
       " 'professionals': 147562,\n",
       " 'like': 122101,\n",
       " 'Mario': 34839,\n",
       " 'Batali': 8964,\n",
       " 'Gwyneth': 25635,\n",
       " 'Paltrow': 40898,\n",
       " 'Danny': 16330,\n",
       " 'Meyer': 35728,\n",
       " 'And': 6486,\n",
       " 'partnerships': 137863,\n",
       " 'Whole': 61151,\n",
       " 'Foods': 23424,\n",
       " 'Market': 34857,\n",
       " 'Random': 45765,\n",
       " 'HouseFood52': 27249,\n",
       " 'named': 130108,\n",
       " 'best': 72811,\n",
       " 'website': 182802,\n",
       " 'James': 30079,\n",
       " 'Beard': 9010,\n",
       " 'Foundation': 23570,\n",
       " 'IACP': 27449,\n",
       " 'featured': 103418,\n",
       " 'New': 37524,\n",
       " 'York': 62107,\n",
       " 'Times': 55730,\n",
       " 'NPR': 37032,\n",
       " 'Pando': 40927,\n",
       " 'Daily': 16287,\n",
       " 'TechCrunch': 54990,\n",
       " 'Today': 55797,\n",
       " 'ShowWere': 51381,\n",
       " 'located': 122716,\n",
       " 'Chelsea': 13023,\n",
       " 'City': 13268,\n",
       " 'fastgrowing': 103289,\n",
       " 'Awardwinning': 8048,\n",
       " 'online': 134006,\n",
       " 'community': 80896,\n",
       " 'crowdsourced': 85755,\n",
       " 'recipe': 151578,\n",
       " 'hub': 112033,\n",
       " 'currently': 86060,\n",
       " 'interviewing': 117395,\n",
       " 'full': 106713,\n",
       " 'parttime': 137957,\n",
       " 'unpaid': 179554,\n",
       " 'interns': 117226,\n",
       " 'work': 184321,\n",
       " 'small': 164163,\n",
       " 'editors': 94936,\n",
       " 'executives': 100751,\n",
       " 'developers': 91030,\n",
       " 'headquartersReproducing': 110480,\n",
       " 'andor': 66633,\n",
       " 'repackaging': 153442,\n",
       " 'existing': 100874,\n",
       " 'content': 83629,\n",
       " 'number': 132324,\n",
       " 'partner': 137703,\n",
       " 'sites': 162749,\n",
       " 'Huffington': 27318,\n",
       " 'Post': 42608,\n",
       " 'Yahoo': 61979,\n",
       " 'Buzzfeed': 10415,\n",
       " 'various': 181054,\n",
       " 'management': 123900,\n",
       " 'systemsResearching': 171066,\n",
       " 'blogs': 73389,\n",
       " 'websites': 182866,\n",
       " 'Provisions': 43908,\n",
       " 'Affiliate': 5711,\n",
       " 'ProgramAssisting': 43563,\n",
       " 'daytoday': 87754,\n",
       " 'affiliate': 65027,\n",
       " 'program': 147797,\n",
       " 'screening': 159574,\n",
       " 'affiliates': 65031,\n",
       " 'assisting': 69919,\n",
       " 'inquiriesSupporting': 115971,\n",
       " 'PR': 40518,\n",
       " 'amp': 66069,\n",
       " 'Events': 21418,\n",
       " 'neededHelping': 130795,\n",
       " 'office': 133201,\n",
       " 'administrative': 64442,\n",
       " 'filing': 104119,\n",
       " 'mailing': 123534,\n",
       " 'preparing': 144458,\n",
       " 'meetingsWorking': 126712,\n",
       " 'document': 93229,\n",
       " 'bugs': 74690,\n",
       " 'suggest': 169490,\n",
       " 'improvements': 113409,\n",
       " 'siteSupporting': 162720,\n",
       " 'marketing': 125273,\n",
       " 'executive': 100741,\n",
       " 'staff': 166511,\n",
       " 'Experience': 21783,\n",
       " 'systems': 170780,\n",
       " 'major': 123729,\n",
       " 'plus': 141527,\n",
       " 'blogging': 73382,\n",
       " 'countsFamiliar': 84958,\n",
       " 'voice': 182016,\n",
       " 'aestheticLoves': 64991,\n",
       " 'appreciates': 67895,\n",
       " 'importance': 113210,\n",
       " 'seasonsMeticulous': 159828,\n",
       " 'editor': 94919,\n",
       " 'perfectionist': 138776,\n",
       " 'obsessive': 132707,\n",
       " 'attention': 70182,\n",
       " 'detail': 90553,\n",
       " 'maddened': 123425,\n",
       " 'typos': 178983,\n",
       " 'broken': 74402,\n",
       " 'links': 122362,\n",
       " 'delighted': 88723,\n",
       " 'finding': 104279,\n",
       " 'fixing': 104596,\n",
       " 'themCheerful': 174913,\n",
       " 'pressureExcellent': 144788,\n",
       " 'communication': 80605,\n",
       " 'skillsA': 163079,\n",
       " 'multitasker': 129797,\n",
       " 'juggler': 119237,\n",
       " 'responsibilities': 155967,\n",
       " 'big': 73069,\n",
       " 'smallInterested': 164172,\n",
       " 'engaged': 96593,\n",
       " 'social': 164388,\n",
       " 'media': 126309,\n",
       " 'Twitter': 56535,\n",
       " 'Facebook': 22644,\n",
       " 'PinterestLoves': 41954,\n",
       " 'problemsolving': 145639,\n",
       " 'collaborating': 80008,\n",
       " 'drive': 94106,\n",
       " 'forwardThinks': 106120,\n",
       " 'picture': 140039,\n",
       " 'pitches': 140258,\n",
       " 'nitty': 131821,\n",
       " 'gritty': 108849,\n",
       " 'running': 158051,\n",
       " 'company': 81169,\n",
       " 'dishes': 92776,\n",
       " 'shopping': 162080,\n",
       " 'supportComfortable': 170060,\n",
       " 'realities': 151342,\n",
       " 'working': 184752,\n",
       " 'startup': 167296,\n",
       " 'call': 75668,\n",
       " 'evenings': 99989,\n",
       " 'weekends': 183130,\n",
       " 'long': 122962,\n",
       " 'hours': 111715,\n",
       " 'Internship': 29420,\n",
       " 'Customer': 15468,\n",
       " 'Service': 50901,\n",
       " 'Cloud': 13558,\n",
       " 'Video': 59933,\n",
       " 'Production': 43374,\n",
       " '90': 3578,\n",
       " 'Seconds': 50528,\n",
       " 'worlds': 185140,\n",
       " 'Service90': 50902,\n",
       " 'enabling': 96357,\n",
       " 'brands': 74118,\n",
       " 'agencies': 65141,\n",
       " 'get': 107817,\n",
       " 'high': 110896,\n",
       " 'quality': 150368,\n",
       " 'video': 181560,\n",
       " 'shot': 162149,\n",
       " 'produced': 146632,\n",
       " 'anywhere': 66966,\n",
       " 'world': 184989,\n",
       " 'makes': 123796,\n",
       " 'production': 146866,\n",
       " 'fast': 103237,\n",
       " 'affordable': 65058,\n",
       " 'managed': 123888,\n",
       " 'seamlessly': 159756,\n",
       " 'cloud': 79533,\n",
       " 'purchase': 150043,\n",
       " 'http90URLfbe6559afac620a3cd2c22281f7b8d0eef56a73e3d9a311e2f1ca13d081dd63090': 112006,\n",
       " 'removes': 153342,\n",
       " 'hassle': 110191,\n",
       " 'cost': 84702,\n",
       " 'risk': 157267,\n",
       " 'speed': 166021,\n",
       " 'issues': 118046,\n",
       " 'regular': 152504,\n",
       " 'companies': 81045,\n",
       " 'managing': 124552,\n",
       " 'every': 100257,\n",
       " 'aspect': 69344,\n",
       " 'projects': 148509,\n",
       " 'beautiful': 72210,\n",
       " 'experience': 101200,\n",
       " 'With': 61333,\n",
       " 'growing': 109069,\n",
       " 'global': 108002,\n",
       " 'network': 131433,\n",
       " '2000': 1114,\n",
       " 'rated': 151154,\n",
       " '50': 2645,\n",
       " 'countries': 84883,\n",
       " 'dedicated': 88386,\n",
       " 'success': 169240,\n",
       " 'teams': 172850,\n",
       " '5': 2644,\n",
       " 'provides': 149741,\n",
       " '100': 97,\n",
       " 'guarantee90': 109391,\n",
       " 'almost': 65814,\n",
       " '4000': 2333,\n",
       " 'videos': 181598,\n",
       " '30': 1908,\n",
       " 'Countries': 15138,\n",
       " '500': 2646,\n",
       " 'Global': 25029,\n",
       " 'including': 114115,\n",
       " 'largest': 120344,\n",
       " 'Paypal': 41296,\n",
       " 'L’Oreal': 33122,\n",
       " 'Sony': 52272,\n",
       " 'Barclays': 8873,\n",
       " 'offices': 133368,\n",
       " 'Auckland': 7765,\n",
       " 'London': 32894,\n",
       " 'Sydney': 54007,\n",
       " 'Tokyo': 55818,\n",
       " 'Singaporehttp90URLfbe6559afac620a3cd2c22281f7b8d0eef56a73e3d9a311e2f1ca13d081dd630': 51530,\n",
       " 'http90URLe2ad0bde3f09a0913a486abdbb1e6ac373bb3310f64b1fbcf550049bcba4a17b': 112003,\n",
       " 'http90URL8c5dd1806f97ab90876d9daebeb430f682dbc87e2f01549b47e96c7bff2ea17e': 112001,\n",
       " 'Organised': 39395,\n",
       " 'Focused': 23364,\n",
       " 'Vibrant': 59909,\n",
       " 'AwesomeDo': 8057,\n",
       " 'passion': 138006,\n",
       " 'customer': 86106,\n",
       " 'service': 160810,\n",
       " 'Slick': 51945,\n",
       " 'typing': 178956,\n",
       " 'skills': 163047,\n",
       " 'Maybe': 35256,\n",
       " 'Account': 5006,\n",
       " 'Management': 34133,\n",
       " 'think': 175329,\n",
       " 'administration': 64331,\n",
       " 'cooler': 84366,\n",
       " 'polar': 142202,\n",
       " 'bear': 72194,\n",
       " 'jetski': 118780,\n",
       " 'Then': 55478,\n",
       " 'hear': 110571,\n",
       " 'opperating': 134628,\n",
       " 'glodal': 108089,\n",
       " 'level': 121416,\n",
       " 'Yeah': 62010,\n",
       " 'pretty': 144876,\n",
       " 'cool': 84360,\n",
       " 'Serious': 50790,\n",
       " 'delivering': 88892,\n",
       " 'class': 78603,\n",
       " 'product': 146650,\n",
       " 'excellent': 100528,\n",
       " 'serviceOur': 160932,\n",
       " 'rapidly': 151093,\n",
       " 'expanding': 100921,\n",
       " 'looking': 123020,\n",
       " 'Project': 43698,\n",
       " 'Manager': 34367,\n",
       " 'manage': 123872,\n",
       " 'successful': 169404,\n",
       " 'delivery': 88901,\n",
       " 'client': 78787,\n",
       " 'communications': 80707,\n",
       " 'process': 145939,\n",
       " 'Work': 61473,\n",
       " 'coolest': 84369,\n",
       " 'planet': 140559,\n",
       " 'learn': 120971,\n",
       " 'representing': 154027,\n",
       " 'NZ': 37163,\n",
       " 'huge': 112050,\n",
       " 'wayWe': 182536,\n",
       " 'entering': 97118,\n",
       " 'next': 131726,\n",
       " 'growth': 109110,\n",
       " 'stage': 166713,\n",
       " 'quickly': 150749,\n",
       " 'internationally': 117143,\n",
       " 'Therefore': 55502,\n",
       " 'position': 142627,\n",
       " 'bursting': 74920,\n",
       " 'opportunity': 134881,\n",
       " 'right': 157196,\n",
       " 'person': 139244,\n",
       " 'time': 175755,\n",
       " 'Fast': 22811,\n",
       " 'guaranteeing': 109400,\n",
       " 'project': 148326,\n",
       " 'Its': 29682,\n",
       " 'easy': 94725,\n",
       " 'commissioning': 80459,\n",
       " 'quick': 150739,\n",
       " 'google': 108500,\n",
       " 'adwords': 64966,\n",
       " 'campaign90': 75870,\n",
       " 'Loreal': 32998,\n",
       " 'SingaporeOur': 51522,\n",
       " 'based': 71762,\n",
       " 'heart': 110579,\n",
       " 'Wynyard': 61665,\n",
       " 'Quarter': 44637,\n",
       " 'Innovation': 28903,\n",
       " 'Precinct': 42905,\n",
       " 'GridAKL': 25431,\n",
       " 'What': 61090,\n",
       " 'expect': 100962,\n",
       " 'youYour': 186188,\n",
       " 'key': 119395,\n",
       " 'responsibility': 156138,\n",
       " 'communicate': 80581,\n",
       " 'freelance': 106479,\n",
       " 'throughout': 175606,\n",
       " 'shoot': 162034,\n",
       " 'planning': 140588,\n",
       " 'securing': 160004,\n",
       " 'talent': 171445,\n",
       " 'workflow': 184672,\n",
       " 'system': 170551,\n",
       " 'The': 55459,\n",
       " 'aim': 65464,\n",
       " 'effectively': 95071,\n",
       " 'produce': 146619,\n",
       " 'great': 108763,\n",
       " 'clients': 78957,\n",
       " 'loveKey': 123110,\n",
       " 'attributesClient': 70445,\n",
       " 'skillsOnline': 163599,\n",
       " 'oustanding': 136318,\n",
       " 'computer': 82252,\n",
       " 'knowledge': 119675,\n",
       " 'software': 164480,\n",
       " 'toolsOrganised': 177116,\n",
       " 'workload': 184799,\n",
       " 'able': 62614,\n",
       " 'multitask100': 129746,\n",
       " 'detailMotivated': 90647,\n",
       " 'selfstarter': 160391,\n",
       " 'achieving': 63552,\n",
       " 'resultsAdaptable': 156371,\n",
       " 'show': 162186,\n",
       " 'initiative': 115508,\n",
       " 'feet': 103675,\n",
       " 'constantly': 83246,\n",
       " 'evolving': 100353,\n",
       " 'atmosphereFlexible': 70091,\n",
       " 'turnaround': 178801,\n",
       " 'availabilityEasy': 70908,\n",
       " 'going': 108413,\n",
       " 'upbeat': 179736,\n",
       " 'dosent': 93853,\n",
       " 'bogged': 73518,\n",
       " 'loves': 123138,\n",
       " 'challengeSense': 77508,\n",
       " 'Humour': 27345,\n",
       " 'laugh': 120405,\n",
       " 'know': 119629,\n",
       " 'takes': 171418,\n",
       " 'gutsAbility': 109642,\n",
       " 'deliver': 88741,\n",
       " 'meeting': 126562,\n",
       " 'deadlines': 87812,\n",
       " 'budgetAttitude': 74495,\n",
       " 'important': 113222,\n",
       " 'however': 111955,\n",
       " 'previous': 144898,\n",
       " 'beneficialPlease': 72594,\n",
       " 'view': 181623,\n",
       " 'platform': 140914,\n",
       " 'URL395a8683a907ce95f49a12fb240e6e47ad8d5a4f96d07ebbd869c4dd4dea1826': 57288,\n",
       " 'clear': 78716,\n",
       " 'understand': 179198,\n",
       " 'reaching': 151249,\n",
       " 'Not': 37820,\n",
       " 'Applicable': 6852,\n",
       " 'usThrough': 180131,\n",
       " 'part': 137580,\n",
       " 'gainexperience': 107321,\n",
       " 'international': 117127,\n",
       " 'brandexperience': 74091,\n",
       " 'variety': 181050,\n",
       " 'large': 120325,\n",
       " 'range': 151060,\n",
       " 'projectsopportunity': 148933,\n",
       " 'grow': 109014,\n",
       " 'function': 106812,\n",
       " 'teama': 172753,\n",
       " 'positive': 142947,\n",
       " 'environment': 97398,\n",
       " 'teamPay4000055000Applying': 172505,\n",
       " 'role': 157462,\n",
       " 'VIDEOBeing': 59424,\n",
       " 'quickest': 150747,\n",
       " 'assess': 69414,\n",
       " 'suitability': 169523,\n",
       " 'apply': 67714,\n",
       " 'submit': 169057,\n",
       " '6090': 3005,\n",
       " 'second': 159844,\n",
       " 'telling': 174071,\n",
       " 'us': 180018,\n",
       " 'would': 185238,\n",
       " 'perfect': 138761,\n",
       " 'It’s': 29687,\n",
       " 'filmmaker': 104160,\n",
       " 'making': 123802,\n",
       " 'really': 151386,\n",
       " 'creative': 85366,\n",
       " 'A': 3777,\n",
       " 'simple': 162493,\n",
       " 'filmed': 104158,\n",
       " 'smart': 164198,\n",
       " 'phone': 139750,\n",
       " 'web': 182638,\n",
       " 'cam': 75850,\n",
       " 'fine': 104301,\n",
       " 'Please': 42275,\n",
       " 'include': 113719,\n",
       " 'startYou': 167267,\n",
       " 'upload': 179868,\n",
       " 'onto': 134179,\n",
       " 'YouTube': 62192,\n",
       " 'Vimeo': 59998,\n",
       " 'similar': 162406,\n",
       " 'Draft': 18415,\n",
       " 'Live': 32712,\n",
       " 'linkAPPLICATIONS': 122306,\n",
       " 'DUE': 16203,\n",
       " '5pm': 2952,\n",
       " 'Wednesday': 60941,\n",
       " '18th': 910,\n",
       " 'July': 30738,\n",
       " '2014': 1339,\n",
       " 'Once': 38875,\n",
       " 'ready': 151308,\n",
       " 'via': 181537,\n",
       " 'following': 105131,\n",
       " 'link': 122303,\n",
       " 'together': 176706,\n",
       " 'cover': 85058,\n",
       " 'letter': 121380,\n",
       " 'CV': 11910,\n",
       " 'After': 5743,\n",
       " 'watched': 182440,\n",
       " 'idea': 112442,\n",
       " 'email': 95777,\n",
       " 'shortlisted': 162131,\n",
       " 'candidates': 76259,\n",
       " 'Commissioning': 13995,\n",
       " 'Machinery': 33881,\n",
       " 'Assistant': 7408,\n",
       " 'CMA': 11055,\n",
       " 'Valor': 59667,\n",
       " 'Services': 50971,\n",
       " 'Workforce': 61541,\n",
       " 'Solutions': 52200,\n",
       " 'meet': 126558,\n",
       " 'needs': 131001,\n",
       " 'across': 63633,\n",
       " 'Private': 43175,\n",
       " 'Sector': 50548,\n",
       " 'special': 165762,\n",
       " 'focus': 104979,\n",
       " 'Oil': 38792,\n",
       " 'Gas': 24633,\n",
       " 'Industry': 28704,\n",
       " 'involved': 117851,\n",
       " 'step': 167699,\n",
       " 'hiring': 111156,\n",
       " 'remain': 153251,\n",
       " 'contact': 83516,\n",
       " 'way': 182472,\n",
       " 'final': 104175,\n",
       " 'signing': 162368,\n",
       " 'employment': 96253,\n",
       " 'contract': 83858,\n",
       " 'employer': 96214,\n",
       " 'founded': 106175,\n",
       " 'vision': 181760,\n",
       " 'employing': 96252,\n",
       " 'unique': 179371,\n",
       " 'experiences': 102062,\n",
       " 'qualities': 150341,\n",
       " 'America’s': 6229,\n",
       " 'finest': 104316,\n",
       " 'veterans': 181522,\n",
       " 'provide': 149582,\n",
       " 'precise': 143797,\n",
       " 'concerted': 82524,\n",
       " 'valueadded': 180898,\n",
       " 'services': 161045,\n",
       " '–': 189636,\n",
       " 'Veterans': 59892,\n",
       " 'optimized': 135097,\n",
       " 'career': 76761,\n",
       " 'opportunityWe': 134935,\n",
       " 'eager': 94621,\n",
       " 'word': 184285,\n",
       " 'ample': 66080,\n",
       " 'opportunities': 134637,\n",
       " 'private': 145302,\n",
       " 'sector': 159896,\n",
       " 'ideal': 112457,\n",
       " 'fill': 104146,\n",
       " 'positions': 142870,\n",
       " 'Your': 62224,\n",
       " 'Success': 53468,\n",
       " 'Our': 39505,\n",
       " 'Mission': 35987,\n",
       " '™': 190916,\n",
       " 'Houston': 27262,\n",
       " 'actively': 63785,\n",
       " 'seeking': 160094,\n",
       " 'experienced': 102017,\n",
       " 'possesses': 142986,\n",
       " 'strong': 168545,\n",
       " 'supervisory': 169864,\n",
       " 'dedication': 88394,\n",
       " 'safety': 158137,\n",
       " 'must': 129893,\n",
       " 'candidate': 76201,\n",
       " 'execute': 100627,\n",
       " 'activities': 63796,\n",
       " 'complying': 82082,\n",
       " 'requirements': 154959,\n",
       " 'health': 110505,\n",
       " 'environmental': 98014,\n",
       " 'regulations': 152540,\n",
       " 'Implement': 28348,\n",
       " 'precommissioning': 143810,\n",
       " 'procedures': 145684,\n",
       " 'rotary': 157876,\n",
       " 'equipmentExecute': 98356,\n",
       " 'subcontractor’s': 168976,\n",
       " 'assigned': 69633,\n",
       " 'crew': 85516,\n",
       " 'pertains': 139633,\n",
       " 'disciplineEnsure': 92520,\n",
       " 'effective': 95050,\n",
       " 'utilization': 180647,\n",
       " 'manpower': 124909,\n",
       " 'consumablesEnsure': 83444,\n",
       " 'execution': 100650,\n",
       " 'vendor': 181162,\n",
       " 'specialists': 165783,\n",
       " 'field': 103783,\n",
       " 'resources': 155763,\n",
       " 'subcontractor': 168966,\n",
       " 'per': 138732,\n",
       " 'vendor’s': 181261,\n",
       " 'representative': 153988,\n",
       " 'plansCarry': 140713,\n",
       " 'equipment': 98310,\n",
       " 'inspections': 116141,\n",
       " 'representatives': 153994,\n",
       " 'ensure': 97096,\n",
       " 'proper': 149117,\n",
       " 'certification': 77349,\n",
       " 'producedPrepare': 146634,\n",
       " 'forms': 105972,\n",
       " 'pending': 138523,\n",
       " 'tests': 174657,\n",
       " 'signed': 162350,\n",
       " 'certificates': 77341,\n",
       " 'hand': 109802,\n",
       " 'engineer': 96724,\n",
       " 'QA': 44155,\n",
       " 'QCCoordinate': 44200,\n",
       " 'representativesKeep': 154004,\n",
       " 'records': 151896,\n",
       " 'activitiesEnsure': 63850,\n",
       " 'practices': 143485,\n",
       " 'strictly': 168518,\n",
       " 'followed': 105104,\n",
       " 'activitiesReport': 63941,\n",
       " 'progress': 148240,\n",
       " 'constraints': 83270,\n",
       " 'mechanical': 126277,\n",
       " 'supervisorPossible': 169843,\n",
       " 'authorization': 70760,\n",
       " 'manager': 124382,\n",
       " 'receive': 151513,\n",
       " 'issue': 118026,\n",
       " 'Permit': 41563,\n",
       " 'To': 55782,\n",
       " 'according': 62951,\n",
       " 'proceduresAssist': 145713,\n",
       " 'supervisor': 169821,\n",
       " 'expedite': 101114,\n",
       " 'punchlist': 150006,\n",
       " 'items': 118510,\n",
       " 'accordance': 62950,\n",
       " 'manager’s': 124547,\n",
       " 'prioritiesAssist': 145158,\n",
       " 'coordinate': 84399,\n",
       " 'supervise': 169699,\n",
       " 'constructionsupport': 83337,\n",
       " 'activitiesCompany': 63831,\n",
       " 'OverviewOur': 39649,\n",
       " 'premiere': 144374,\n",
       " 'construction': 83313,\n",
       " 'procurement': 146603,\n",
       " 'executes': 100646,\n",
       " 'largescale': 120341,\n",
       " 'Executive': 21659,\n",
       " 'Washington': 60675,\n",
       " 'DC': 15662,\n",
       " 'improving': 113486,\n",
       " 'life': 121881,\n",
       " 'geography': 107758,\n",
       " 'Esri’s': 21198,\n",
       " 'geographic': 107745,\n",
       " 'GIS': 24342,\n",
       " 'inspires': 116172,\n",
       " 'enables': 96356,\n",
       " 'governments': 108551,\n",
       " 'universities': 179450,\n",
       " 'businesses': 75225,\n",
       " 'worldwide': 185148,\n",
       " 'save': 158790,\n",
       " 'money': 128825,\n",
       " 'lives': 122562,\n",
       " 'deeper': 88430,\n",
       " 'understanding': 179215,\n",
       " 'changing': 77809,\n",
       " 'themCarefully': 174911,\n",
       " 'zero': 186378,\n",
       " 'debt': 88112,\n",
       " 'Esri': 21197,\n",
       " 'stability': 166422,\n",
       " 'uncommon': 179127,\n",
       " 'todays': 176675,\n",
       " 'volatile': 182060,\n",
       " 'Privately': 43179,\n",
       " 'held': 110645,\n",
       " 'exceptional': 100548,\n",
       " 'benefits': 72642,\n",
       " 'competitive': 81749,\n",
       " 'salaries': 158182,\n",
       " '401k': 2373,\n",
       " 'profitsharing': 147784,\n",
       " 'programs': 148066,\n",
       " 'personal': 139335,\n",
       " 'professional': 147476,\n",
       " 'much': 129577,\n",
       " 'THE': 54367,\n",
       " 'COMPANY': 11245,\n",
       " 'ESRI': 19608,\n",
       " 'Environmental': 21054,\n",
       " 'Systems': 54106,\n",
       " 'Research': 47054,\n",
       " 'InstituteOur': 29019,\n",
       " 'moreTHE': 129283,\n",
       " 'OPPORTUNITY': 38234,\n",
       " 'ExecutiveAs': 21663,\n",
       " 'member': 126760,\n",
       " 'Sales': 49835,\n",
       " 'Division': 18147,\n",
       " 'collaboratively': 80056,\n",
       " 'account': 62998,\n",
       " 'order': 135291,\n",
       " 'sell': 160449,\n",
       " 'promote': 149012,\n",
       " 'adoption': 64520,\n",
       " 'ArcGIS': 7033,\n",
       " 'within': 184178,\n",
       " 'organization': 135534,\n",
       " 'As': 7269,\n",
       " 'responsible': 156222,\n",
       " 'facilitating': 102751,\n",
       " 'development': 91152,\n",
       " 'set': 161464,\n",
       " 'strategies': 168090,\n",
       " 'defined': 88501,\n",
       " 'portfolio': 142525,\n",
       " 'accounts': 63150,\n",
       " 'When': 61109,\n",
       " 'executing': 100649,\n",
       " 'utilize': 180661,\n",
       " 'enterprise': 97124,\n",
       " 'sales': 158337,\n",
       " 'help': 110663,\n",
       " 'customers': 86204,\n",
       " 'leverage': 121690,\n",
       " 'geospatial': 107787,\n",
       " 'achieve': 63489,\n",
       " 'goals': 108150,\n",
       " 'Specifically…Prospect': 52527,\n",
       " 'develop': 90940,\n",
       " 'stakeholders': 166775,\n",
       " 'envision': 98221,\n",
       " 'implement': 112997,\n",
       " 'location': 122719,\n",
       " 'strategy': 168255,\n",
       " 'organizationClearly': 135571,\n",
       " 'articulate': 69193,\n",
       " 'strength': 168471,\n",
       " 'value': 180845,\n",
       " 'proposition': 149251,\n",
       " 'platformDevelop': 140954,\n",
       " 'maintain': 123571,\n",
       " 'healthy': 110562,\n",
       " 'pipeline': 140157,\n",
       " 'growthDemonstrate': 109148,\n",
       " 'thoughtful': 175501,\n",
       " 'insightful': 116068,\n",
       " 'industry': 114739,\n",
       " 'applies': 67710,\n",
       " 'initiatives': 115554,\n",
       " 'trends': 178360,\n",
       " 'triggersUnderstand': 178537,\n",
       " 'drivers': 94183,\n",
       " 'identify': 112655,\n",
       " 'stakeholdersUnderstand': 166884,\n",
       " 'customers’': 86561,\n",
       " 'budgeting': 74589,\n",
       " 'acquisition': 63584,\n",
       " 'processesSuccessfully': 146421,\n",
       " 'prioritization': 145247,\n",
       " 'resourcing': 155876,\n",
       " 'planningSuccessfully': 140661,\n",
       " 'opportunitiesLeverage': 134766,\n",
       " 'lead': 120664,\n",
       " 'consisting': 83220,\n",
       " 'crossdivisional': 85681,\n",
       " 'define': 88500,\n",
       " 'strategyEffectively': 168297,\n",
       " 'CRM': 11498,\n",
       " 'buying': 75407,\n",
       " 'processPursue': 146131,\n",
       " 'real': 151326,\n",
       " 'estate': 98996,\n",
       " 'industryLeverage': 114842,\n",
       " 'successfully': 169433,\n",
       " 'prospect': 149308,\n",
       " 'build': 74711,\n",
       " 'networkParticipate': 131466,\n",
       " 'trade': 177589,\n",
       " 'shows': 162222,\n",
       " 'workshops': 184910,\n",
       " 'seminars': 160523,\n",
       " 'requiredSupport': 154805,\n",
       " 'visual': 181926,\n",
       " 'story': 167980,\n",
       " 'whiteboard': 183617,\n",
       " 'sessionsBe': 161434,\n",
       " 'resourceful': 155737,\n",
       " 'resolve': 155686,\n",
       " 'EDUCATION': 18891,\n",
       " 'Bachelor’s': 8637,\n",
       " 'Master’s': 35118,\n",
       " 'related': 152730,\n",
       " 'equivalent': 98537,\n",
       " 'depending': 89491,\n",
       " 'levelEXPERIENCE': 121457,\n",
       " 'years': 185723,\n",
       " 'providing': 149744,\n",
       " 'solutions': 164878,\n",
       " 'businessesDemonstrated': 75242,\n",
       " 'cycle': 86633,\n",
       " 'prospecting': 149318,\n",
       " 'proposing': 149250,\n",
       " 'closingAbility': 79478,\n",
       " 'adapt': 64148,\n",
       " 'translate': 178072,\n",
       " 'address': 64219,\n",
       " 'needsDemonstrated': 131066,\n",
       " 'advocacy': 64947,\n",
       " 'customersExcellent': 86307,\n",
       " 'presentation': 144596,\n",
       " 'white': 183616,\n",
       " 'boarding': 73467,\n",
       " 'negotiation': 131327,\n",
       " 'good': 108446,\n",
       " 'listening': 122437,\n",
       " 'probing': 145381,\n",
       " 'qualification': 150221,\n",
       " 'abilitiesExperience': 62499,\n",
       " 'insight': 116042,\n",
       " 'selling': 160471,\n",
       " 'methodologiesDemonstrated': 127385,\n",
       " 'mitigation': 128328,\n",
       " 'threatsExcellent': 175533,\n",
       " 'written': 185421,\n",
       " 'verbal': 181317,\n",
       " 'interpersonal': 117269,\n",
       " 'skillsAbility': 163084,\n",
       " 'prioritize': 145259,\n",
       " 'activitiesDemonstrated': 63841,\n",
       " 'engagements': 96655,\n",
       " 'industryKnowledge': 114840,\n",
       " 'fiscal': 104510,\n",
       " 'year': 185605,\n",
       " 'cycleHighly': 86659,\n",
       " 'motivated': 129378,\n",
       " 'player': 141286,\n",
       " 'mature': 126120,\n",
       " 'attitude': 70219,\n",
       " 'challenges': 77529,\n",
       " 'businessAbility': 74941,\n",
       " 'travel': 178191,\n",
       " 'domestically': 93687,\n",
       " '50General': 2727,\n",
       " 'spatial': 165694,\n",
       " 'analysis': 66143,\n",
       " 'problem': 145383,\n",
       " 'solvingResults': 165320,\n",
       " 'oriented': 135937,\n",
       " 'ability': 62544,\n",
       " 'write': 185283,\n",
       " 'craft': 85216,\n",
       " 'attainable': 70143,\n",
       " 'realistic': 151338,\n",
       " 'timedriven': 176018,\n",
       " 'indicators': 114498,\n",
       " 'MidSenior': 35812,\n",
       " 'Bachelors': 8628,\n",
       " 'Degree': 16627,\n",
       " 'culture': 85862,\n",
       " 'anything': 66951,\n",
       " 'corporate—we': 84583,\n",
       " 'collaborative': 80047,\n",
       " 'directories': 92358,\n",
       " 'organized': 135811,\n",
       " 'first': 104470,\n",
       " 'name': 130101,\n",
       " 'relaxed': 153033,\n",
       " 'dress': 94056,\n",
       " 'code': 79684,\n",
       " 'opendoor': 134248,\n",
       " 'policiesA': 142212,\n",
       " 'Place': 42023,\n",
       " 'ThrivePassionate': 55609,\n",
       " 'strive': 168537,\n",
       " 'make': 123744,\n",
       " 'differenceCasual': 91978,\n",
       " 'codeFlexible': 79735,\n",
       " 'schedulesSupport': 159234,\n",
       " 'continuing': 83837,\n",
       " 'educationCollegeLike': 94972,\n",
       " 'CampusA': 12140,\n",
       " 'buildings': 74789,\n",
       " 'amid': 66051,\n",
       " 'lush': 123309,\n",
       " 'landscaping': 120096,\n",
       " 'numerous': 132368,\n",
       " 'outdoor': 136446,\n",
       " 'patio': 138172,\n",
       " 'areasOnsite': 68876,\n",
       " 'café': 75563,\n",
       " 'Starbucks': 52854,\n",
       " 'coffee': 79930,\n",
       " 'bar': 71613,\n",
       " 'lounge': 123090,\n",
       " 'areaFitness': 68723,\n",
       " 'center': 77220,\n",
       " 'available': 70934,\n",
       " '247Comprehensive': 1642,\n",
       " 'reference': 152214,\n",
       " 'library': 121770,\n",
       " 'bibliographyStateoftheart': 73036,\n",
       " 'conference': 82688,\n",
       " 'host': 111607,\n",
       " 'guest': 109416,\n",
       " 'speakers': 165723,\n",
       " 'Green': 25391,\n",
       " 'InitiativesSolar': 28879,\n",
       " 'rooftop': 157812,\n",
       " 'panels': 137380,\n",
       " 'reduce': 152150,\n",
       " 'carbon': 76645,\n",
       " 'emissionsElectric': 95982,\n",
       " 'vehicles': 181115,\n",
       " 'oncampus': 133809,\n",
       " 'transportationHundreds': 178144,\n",
       " 'trees': 178346,\n",
       " 'cooling': 84371,\n",
       " 'Bill': 9457,\n",
       " 'Review': 47744,\n",
       " 'SpotSource': 52632,\n",
       " 'LLC': 31666,\n",
       " 'Human': 27325,\n",
       " 'Capital': 12271,\n",
       " 'Consulting': 14690,\n",
       " 'firm': 104399,\n",
       " 'headquartered': 110477,\n",
       " 'Miami': 35743,\n",
       " 'Florida': 23300,\n",
       " 'Founded': 23586,\n",
       " 'January': 30093,\n",
       " '2012': 1277,\n",
       " 'fusion': 107217,\n",
       " 'innovative': 115839,\n",
       " 'offerings': 133117,\n",
       " 'increasing': 114284,\n",
       " 'demand': 89035,\n",
       " 'today’s': 176678,\n",
       " 'economy': 94822,\n",
       " 'specialize': 165806,\n",
       " 'Talent': 54701,\n",
       " 'Acquisition': 5187,\n",
       " 'Staffing': 52774,\n",
       " 'Search': 50488,\n",
       " 'functions': 106940,\n",
       " 'industries': 114672,\n",
       " 'Transfusion': 56210,\n",
       " 'GTT': 24526,\n",
       " 'practice': 143439,\n",
       " 'standards': 166962,\n",
       " 'temporary': 174135,\n",
       " 'temporarytohire': 174138,\n",
       " 'permanent': 139180,\n",
       " 'basis': 71837,\n",
       " 'Health': 26601,\n",
       " 'Career': 12372,\n",
       " 'Transition': 56225,\n",
       " 'HCT': 25763,\n",
       " 'subsidiary': 169114,\n",
       " 'offers': 133164,\n",
       " 'placement': 140350,\n",
       " 'specifically': 165832,\n",
       " 'Healthcare': 26623,\n",
       " 'arena': 68957,\n",
       " 'SES': 48829,\n",
       " 'Consultants': 14678,\n",
       " 'breed': 74261,\n",
       " 'evangelists': 99970,\n",
       " 'advise': 64913,\n",
       " 'streamline': 168440,\n",
       " 'human': 112060,\n",
       " 'direction': 92252,\n",
       " 'requires': 155345,\n",
       " 'term': 174202,\n",
       " 'sustainability': 170379,\n",
       " ...}"
      ]
     },
     "execution_count": 30,
     "metadata": {},
     "output_type": "execute_result"
    }
   ],
   "source": [
    "bow_transformer.vocabulary_"
   ]
  },
  {
   "cell_type": "code",
   "execution_count": 31,
   "id": "db179e8b",
   "metadata": {},
   "outputs": [],
   "source": [
    "tdm=bow_transformer.transform(df['x'])"
   ]
  },
  {
   "cell_type": "code",
   "execution_count": null,
   "id": "3d3ba0d6",
   "metadata": {},
   "outputs": [],
   "source": []
  },
  {
   "cell_type": "markdown",
   "id": "24d4368e",
   "metadata": {},
   "source": [
    "# WordCloud Visualization"
   ]
  },
  {
   "cell_type": "code",
   "execution_count": 41,
   "id": "e93493be",
   "metadata": {},
   "outputs": [],
   "source": [
    "tab_df=df[df.y==0]"
   ]
  },
  {
   "cell_type": "code",
   "execution_count": 42,
   "id": "5bddf000",
   "metadata": {
    "scrolled": true
   },
   "outputs": [
    {
     "data": {
      "text/plain": [
       "<matplotlib.image.AxesImage at 0x1edca1ec510>"
      ]
     },
     "execution_count": 42,
     "metadata": {},
     "output_type": "execute_result"
    },
    {
     "data": {
      "image/png": "[encoded data removed]",
      "text/plain": [
       "<Figure size 1000x1000 with 1 Axes>"
      ]
     },
     "metadata": {},
     "output_type": "display_data"
    }
   ],
   "source": [
    "from wordcloud import WordCloud\n",
    "cloud=WordCloud(stopwords=stopwords.words('english'),max_words=10).generate(str(tab_df['x']))\n",
    "plt.figure(figsize=(10,10))\n",
    "plt.imshow(cloud)"
   ]
  },
  {
   "cell_type": "code",
   "execution_count": 43,
   "id": "e4bc8143",
   "metadata": {},
   "outputs": [],
   "source": [
    "tab_df_y=df[df.y==1]"
   ]
  },
  {
   "cell_type": "code",
   "execution_count": 44,
   "id": "6c948bea",
   "metadata": {},
   "outputs": [
    {
     "data": {
      "text/plain": [
       "<matplotlib.image.AxesImage at 0x1eddfbeedd0>"
      ]
     },
     "execution_count": 44,
     "metadata": {},
     "output_type": "execute_result"
    },
    {
     "data": {
      "image/png": "[encoded data removed]",
      "text/plain": [
       "<Figure size 1000x1000 with 1 Axes>"
      ]
     },
     "metadata": {},
     "output_type": "display_data"
    }
   ],
   "source": [
    "tab_df_y=df[df.y==1]\n",
    "from wordcloud import WordCloud\n",
    "cloud=WordCloud(stopwords=stopwords.words('english'),max_words=10).generate(str(tab_df_y['x']))\n",
    "plt.figure(figsize=(10,10))\n",
    "plt.imshow(cloud)"
   ]
  },
  {
   "cell_type": "markdown",
   "id": "71bb7585",
   "metadata": {},
   "source": [
    "## Split Data Into Train_Test"
   ]
  },
  {
   "cell_type": "code",
   "execution_count": 40,
   "id": "29959ad0",
   "metadata": {},
   "outputs": [],
   "source": [
    "from sklearn.model_selection import train_test_split\n",
    "tdm_train,tdm_test,y_train,y_test=train_test_split(tdm,df['y'],test_size=.2)"
   ]
  },
  {
   "cell_type": "code",
   "execution_count": null,
   "id": "a7239419",
   "metadata": {},
   "outputs": [],
   "source": []
  },
  {
   "cell_type": "markdown",
   "id": "bffb5a94",
   "metadata": {},
   "source": [
    "## Model Building Algorithms"
   ]
  },
  {
   "cell_type": "markdown",
   "id": "ab8a2548",
   "metadata": {},
   "source": [
    "## Logistic Regression"
   ]
  },
  {
   "cell_type": "code",
   "execution_count": 45,
   "id": "24b77dbb",
   "metadata": {},
   "outputs": [],
   "source": [
    "from sklearn.linear_model import LogisticRegression\n",
    "logreg=LogisticRegression()"
   ]
  },
  {
   "cell_type": "code",
   "execution_count": 46,
   "id": "3212bf8a",
   "metadata": {},
   "outputs": [
    {
     "data": {
      "text/html": [
       "<style>#sk-container-id-1 {color: black;}#sk-container-id-1 pre{padding: 0;}#sk-container-id-1 div.sk-toggleable {background-color: white;}#sk-container-id-1 label.sk-toggleable__label {cursor: pointer;display: block;width: 100%;margin-bottom: 0;padding: 0.3em;box-sizing: border-box;text-align: center;}#sk-container-id-1 label.sk-toggleable__label-arrow:before {content: \"▸\";float: left;margin-right: 0.25em;color: #696969;}#sk-container-id-1 label.sk-toggleable__label-arrow:hover:before {color: black;}#sk-container-id-1 div.sk-estimator:hover label.sk-toggleable__label-arrow:before {color: black;}#sk-container-id-1 div.sk-toggleable__content {max-height: 0;max-width: 0;overflow: hidden;text-align: left;background-color: #f0f8ff;}#sk-container-id-1 div.sk-toggleable__content pre {margin: 0.2em;color: black;border-radius: 0.25em;background-color: #f0f8ff;}#sk-container-id-1 input.sk-toggleable__control:checked~div.sk-toggleable__content {max-height: 200px;max-width: 100%;overflow: auto;}#sk-container-id-1 input.sk-toggleable__control:checked~label.sk-toggleable__label-arrow:before {content: \"▾\";}#sk-container-id-1 div.sk-estimator input.sk-toggleable__control:checked~label.sk-toggleable__label {background-color: #d4ebff;}#sk-container-id-1 div.sk-label input.sk-toggleable__control:checked~label.sk-toggleable__label {background-color: #d4ebff;}#sk-container-id-1 input.sk-hidden--visually {border: 0;clip: rect(1px 1px 1px 1px);clip: rect(1px, 1px, 1px, 1px);height: 1px;margin: -1px;overflow: hidden;padding: 0;position: absolute;width: 1px;}#sk-container-id-1 div.sk-estimator {font-family: monospace;background-color: #f0f8ff;border: 1px dotted black;border-radius: 0.25em;box-sizing: border-box;margin-bottom: 0.5em;}#sk-container-id-1 div.sk-estimator:hover {background-color: #d4ebff;}#sk-container-id-1 div.sk-parallel-item::after {content: \"\";width: 100%;border-bottom: 1px solid gray;flex-grow: 1;}#sk-container-id-1 div.sk-label:hover label.sk-toggleable__label {background-color: #d4ebff;}#sk-container-id-1 div.sk-serial::before {content: \"\";position: absolute;border-left: 1px solid gray;box-sizing: border-box;top: 0;bottom: 0;left: 50%;z-index: 0;}#sk-container-id-1 div.sk-serial {display: flex;flex-direction: column;align-items: center;background-color: white;padding-right: 0.2em;padding-left: 0.2em;position: relative;}#sk-container-id-1 div.sk-item {position: relative;z-index: 1;}#sk-container-id-1 div.sk-parallel {display: flex;align-items: stretch;justify-content: center;background-color: white;position: relative;}#sk-container-id-1 div.sk-item::before, #sk-container-id-1 div.sk-parallel-item::before {content: \"\";position: absolute;border-left: 1px solid gray;box-sizing: border-box;top: 0;bottom: 0;left: 50%;z-index: -1;}#sk-container-id-1 div.sk-parallel-item {display: flex;flex-direction: column;z-index: 1;position: relative;background-color: white;}#sk-container-id-1 div.sk-parallel-item:first-child::after {align-self: flex-end;width: 50%;}#sk-container-id-1 div.sk-parallel-item:last-child::after {align-self: flex-start;width: 50%;}#sk-container-id-1 div.sk-parallel-item:only-child::after {width: 0;}#sk-container-id-1 div.sk-dashed-wrapped {border: 1px dashed gray;margin: 0 0.4em 0.5em 0.4em;box-sizing: border-box;padding-bottom: 0.4em;background-color: white;}#sk-container-id-1 div.sk-label label {font-family: monospace;font-weight: bold;display: inline-block;line-height: 1.2em;}#sk-container-id-1 div.sk-label-container {text-align: center;}#sk-container-id-1 div.sk-container {/* jupyter's `normalize.less` sets `[hidden] { display: none; }` but bootstrap.min.css set `[hidden] { display: none !important; }` so we also need the `!important` here to be able to override the default hidden behavior on the sphinx rendered scikit-learn.org. See: https://github.com/scikit-learn/scikit-learn/issues/21755 */display: inline-block !important;position: relative;}#sk-container-id-1 div.sk-text-repr-fallback {display: none;}</style><div id=\"sk-container-id-1\" class=\"sk-top-container\"><div class=\"sk-text-repr-fallback\"><pre>LogisticRegression()</pre><b>In a Jupyter environment, please rerun this cell to show the HTML representation or trust the notebook. <br />On GitHub, the HTML representation is unable to render, please try loading this page with nbviewer.org.</b></div><div class=\"sk-container\" hidden><div class=\"sk-item\"><div class=\"sk-estimator sk-toggleable\"><input class=\"sk-toggleable__control sk-hidden--visually\" id=\"sk-estimator-id-1\" type=\"checkbox\" checked><label for=\"sk-estimator-id-1\" class=\"sk-toggleable__label sk-toggleable__label-arrow\">LogisticRegression</label><div class=\"sk-toggleable__content\"><pre>LogisticRegression()</pre></div></div></div></div></div>"
      ],
      "text/plain": [
       "LogisticRegression()"
      ]
     },
     "execution_count": 46,
     "metadata": {},
     "output_type": "execute_result"
    }
   ],
   "source": [
    "logreg.fit(tdm_train,y_train)"
   ]
  },
  {
   "cell_type": "code",
   "execution_count": 47,
   "id": "7ed9fac1",
   "metadata": {},
   "outputs": [],
   "source": [
    "pred_logreg_test=logreg.predict(tdm_test)"
   ]
  },
  {
   "cell_type": "code",
   "execution_count": 48,
   "id": "746a12fd",
   "metadata": {},
   "outputs": [],
   "source": [
    "from sklearn.metrics import confusion_matrix,accuracy_score,recall_score,f1_score,precision_score"
   ]
  },
  {
   "cell_type": "code",
   "execution_count": 49,
   "id": "1a6666ea",
   "metadata": {},
   "outputs": [
    {
     "data": {
      "text/plain": [
       "array([[3390,   47],\n",
       "       [  13,  126]], dtype=int64)"
      ]
     },
     "execution_count": 49,
     "metadata": {},
     "output_type": "execute_result"
    }
   ],
   "source": [
    "tab2=confusion_matrix(pred_logreg_test,y_test)\n",
    "tab2"
   ]
  },
  {
   "cell_type": "code",
   "execution_count": 50,
   "id": "997e0782",
   "metadata": {},
   "outputs": [
    {
     "data": {
      "text/html": [
       "<div>\n",
       "<style scoped>\n",
       "    .dataframe tbody tr th:only-of-type {\n",
       "        vertical-align: middle;\n",
       "    }\n",
       "\n",
       "    .dataframe tbody tr th {\n",
       "        vertical-align: top;\n",
       "    }\n",
       "\n",
       "    .dataframe thead th {\n",
       "        text-align: right;\n",
       "    }\n",
       "</style>\n",
       "<table border=\"1\" class=\"dataframe\">\n",
       "  <thead>\n",
       "    <tr style=\"text-align: right;\">\n",
       "      <th></th>\n",
       "      <th>Non-Fraud</th>\n",
       "      <th>Fraud</th>\n",
       "    </tr>\n",
       "  </thead>\n",
       "  <tbody>\n",
       "    <tr>\n",
       "      <th>Non-Fraud</th>\n",
       "      <td>3390</td>\n",
       "      <td>47</td>\n",
       "    </tr>\n",
       "    <tr>\n",
       "      <th>Fraud</th>\n",
       "      <td>13</td>\n",
       "      <td>126</td>\n",
       "    </tr>\n",
       "  </tbody>\n",
       "</table>\n",
       "</div>"
      ],
      "text/plain": [
       "           Non-Fraud  Fraud\n",
       "Non-Fraud       3390     47\n",
       "Fraud             13    126"
      ]
     },
     "execution_count": 50,
     "metadata": {},
     "output_type": "execute_result"
    }
   ],
   "source": [
    "tab3=pd.DataFrame(tab2)\n",
    "tab3.index=['Non-Fraud','Fraud']\n",
    "tab3.columns=['Non-Fraud','Fraud']\n",
    "tab3"
   ]
  },
  {
   "cell_type": "code",
   "execution_count": 51,
   "id": "4c966b90",
   "metadata": {},
   "outputs": [
    {
     "data": {
      "text/plain": [
       "0.9832214765100671"
      ]
     },
     "execution_count": 51,
     "metadata": {},
     "output_type": "execute_result"
    }
   ],
   "source": [
    "accuracy_score(pred_logreg_test,y_test)"
   ]
  },
  {
   "cell_type": "code",
   "execution_count": 52,
   "id": "f38f0887",
   "metadata": {},
   "outputs": [
    {
     "data": {
      "text/plain": [
       "0.9064748201438849"
      ]
     },
     "execution_count": 52,
     "metadata": {},
     "output_type": "execute_result"
    }
   ],
   "source": [
    "recall_score(pred_logreg_test,y_test)"
   ]
  },
  {
   "cell_type": "code",
   "execution_count": 53,
   "id": "26c460b5",
   "metadata": {},
   "outputs": [
    {
     "data": {
      "text/plain": [
       "0.8076923076923076"
      ]
     },
     "execution_count": 53,
     "metadata": {},
     "output_type": "execute_result"
    }
   ],
   "source": [
    "f1_score(pred_logreg_test,y_test)"
   ]
  },
  {
   "cell_type": "code",
   "execution_count": 54,
   "id": "d2afe543",
   "metadata": {},
   "outputs": [
    {
     "data": {
      "text/plain": [
       "0.7283236994219653"
      ]
     },
     "execution_count": 54,
     "metadata": {},
     "output_type": "execute_result"
    }
   ],
   "source": [
    "precision_score(pred_logreg_test,y_test)"
   ]
  },
  {
   "cell_type": "code",
   "execution_count": 55,
   "id": "933c67b1",
   "metadata": {},
   "outputs": [
    {
     "data": {
      "text/plain": [
       "array([[9.99918351e-01, 8.16494908e-05],\n",
       "       [9.99987646e-01, 1.23542395e-05],\n",
       "       [9.99782160e-01, 2.17839550e-04],\n",
       "       ...,\n",
       "       [9.99661687e-01, 3.38312806e-04],\n",
       "       [9.99610804e-01, 3.89195997e-04],\n",
       "       [9.99879663e-01, 1.20337064e-04]])"
      ]
     },
     "execution_count": 55,
     "metadata": {},
     "output_type": "execute_result"
    }
   ],
   "source": [
    "pred_prob_test=logreg.predict_proba(tdm_test)\n",
    "pred_prob_test"
   ]
  },
  {
   "cell_type": "code",
   "execution_count": 56,
   "id": "a2f221a8",
   "metadata": {},
   "outputs": [],
   "source": [
    "from sklearn.metrics import roc_auc_score , roc_curve"
   ]
  },
  {
   "cell_type": "code",
   "execution_count": 57,
   "id": "07988683",
   "metadata": {},
   "outputs": [
    {
     "data": {
      "text/plain": [
       "0.9785992977974213"
      ]
     },
     "execution_count": 57,
     "metadata": {},
     "output_type": "execute_result"
    }
   ],
   "source": [
    "roc_auc_score(y_test,pred_prob_test[:,1])"
   ]
  },
  {
   "cell_type": "code",
   "execution_count": 58,
   "id": "28342690",
   "metadata": {},
   "outputs": [],
   "source": [
    "fpr,tpr,threshould= roc_curve(y_test,pred_prob_test[:,1])"
   ]
  },
  {
   "cell_type": "code",
   "execution_count": 59,
   "id": "b63404b6",
   "metadata": {},
   "outputs": [],
   "source": [
    "import matplotlib.pyplot as plt\n"
   ]
  },
  {
   "cell_type": "code",
   "execution_count": 60,
   "id": "81e445fb",
   "metadata": {},
   "outputs": [
    {
     "data": {
      "image/png": "[encoded data removed]",
      "text/plain": [
       "<Figure size 640x480 with 1 Axes>"
      ]
     },
     "metadata": {},
     "output_type": "display_data"
    }
   ],
   "source": [
    "plt.plot(fpr,tpr,marker='.',color='green')\n",
    "plt.xlabel('fpr')\n",
    "\n",
    "plt.ylabel('tpr')\n",
    "plt.title('ROC under the curve')\n",
    "plt.grid()"
   ]
  },
  {
   "cell_type": "markdown",
   "id": "164b6d99",
   "metadata": {},
   "source": [
    "## Decision-Tree"
   ]
  },
  {
   "cell_type": "code",
   "execution_count": 61,
   "id": "6e657938",
   "metadata": {},
   "outputs": [],
   "source": [
    "from sklearn.tree import DecisionTreeClassifier\n",
    "dt=DecisionTreeClassifier(class_weight='balanced')"
   ]
  },
  {
   "cell_type": "code",
   "execution_count": 62,
   "id": "bdb901c2",
   "metadata": {},
   "outputs": [
    {
     "data": {
      "text/html": [
       "<style>#sk-container-id-2 {color: black;}#sk-container-id-2 pre{padding: 0;}#sk-container-id-2 div.sk-toggleable {background-color: white;}#sk-container-id-2 label.sk-toggleable__label {cursor: pointer;display: block;width: 100%;margin-bottom: 0;padding: 0.3em;box-sizing: border-box;text-align: center;}#sk-container-id-2 label.sk-toggleable__label-arrow:before {content: \"▸\";float: left;margin-right: 0.25em;color: #696969;}#sk-container-id-2 label.sk-toggleable__label-arrow:hover:before {color: black;}#sk-container-id-2 div.sk-estimator:hover label.sk-toggleable__label-arrow:before {color: black;}#sk-container-id-2 div.sk-toggleable__content {max-height: 0;max-width: 0;overflow: hidden;text-align: left;background-color: #f0f8ff;}#sk-container-id-2 div.sk-toggleable__content pre {margin: 0.2em;color: black;border-radius: 0.25em;background-color: #f0f8ff;}#sk-container-id-2 input.sk-toggleable__control:checked~div.sk-toggleable__content {max-height: 200px;max-width: 100%;overflow: auto;}#sk-container-id-2 input.sk-toggleable__control:checked~label.sk-toggleable__label-arrow:before {content: \"▾\";}#sk-container-id-2 div.sk-estimator input.sk-toggleable__control:checked~label.sk-toggleable__label {background-color: #d4ebff;}#sk-container-id-2 div.sk-label input.sk-toggleable__control:checked~label.sk-toggleable__label {background-color: #d4ebff;}#sk-container-id-2 input.sk-hidden--visually {border: 0;clip: rect(1px 1px 1px 1px);clip: rect(1px, 1px, 1px, 1px);height: 1px;margin: -1px;overflow: hidden;padding: 0;position: absolute;width: 1px;}#sk-container-id-2 div.sk-estimator {font-family: monospace;background-color: #f0f8ff;border: 1px dotted black;border-radius: 0.25em;box-sizing: border-box;margin-bottom: 0.5em;}#sk-container-id-2 div.sk-estimator:hover {background-color: #d4ebff;}#sk-container-id-2 div.sk-parallel-item::after {content: \"\";width: 100%;border-bottom: 1px solid gray;flex-grow: 1;}#sk-container-id-2 div.sk-label:hover label.sk-toggleable__label {background-color: #d4ebff;}#sk-container-id-2 div.sk-serial::before {content: \"\";position: absolute;border-left: 1px solid gray;box-sizing: border-box;top: 0;bottom: 0;left: 50%;z-index: 0;}#sk-container-id-2 div.sk-serial {display: flex;flex-direction: column;align-items: center;background-color: white;padding-right: 0.2em;padding-left: 0.2em;position: relative;}#sk-container-id-2 div.sk-item {position: relative;z-index: 1;}#sk-container-id-2 div.sk-parallel {display: flex;align-items: stretch;justify-content: center;background-color: white;position: relative;}#sk-container-id-2 div.sk-item::before, #sk-container-id-2 div.sk-parallel-item::before {content: \"\";position: absolute;border-left: 1px solid gray;box-sizing: border-box;top: 0;bottom: 0;left: 50%;z-index: -1;}#sk-container-id-2 div.sk-parallel-item {display: flex;flex-direction: column;z-index: 1;position: relative;background-color: white;}#sk-container-id-2 div.sk-parallel-item:first-child::after {align-self: flex-end;width: 50%;}#sk-container-id-2 div.sk-parallel-item:last-child::after {align-self: flex-start;width: 50%;}#sk-container-id-2 div.sk-parallel-item:only-child::after {width: 0;}#sk-container-id-2 div.sk-dashed-wrapped {border: 1px dashed gray;margin: 0 0.4em 0.5em 0.4em;box-sizing: border-box;padding-bottom: 0.4em;background-color: white;}#sk-container-id-2 div.sk-label label {font-family: monospace;font-weight: bold;display: inline-block;line-height: 1.2em;}#sk-container-id-2 div.sk-label-container {text-align: center;}#sk-container-id-2 div.sk-container {/* jupyter's `normalize.less` sets `[hidden] { display: none; }` but bootstrap.min.css set `[hidden] { display: none !important; }` so we also need the `!important` here to be able to override the default hidden behavior on the sphinx rendered scikit-learn.org. See: https://github.com/scikit-learn/scikit-learn/issues/21755 */display: inline-block !important;position: relative;}#sk-container-id-2 div.sk-text-repr-fallback {display: none;}</style><div id=\"sk-container-id-2\" class=\"sk-top-container\"><div class=\"sk-text-repr-fallback\"><pre>DecisionTreeClassifier(class_weight=&#x27;balanced&#x27;)</pre><b>In a Jupyter environment, please rerun this cell to show the HTML representation or trust the notebook. <br />On GitHub, the HTML representation is unable to render, please try loading this page with nbviewer.org.</b></div><div class=\"sk-container\" hidden><div class=\"sk-item\"><div class=\"sk-estimator sk-toggleable\"><input class=\"sk-toggleable__control sk-hidden--visually\" id=\"sk-estimator-id-2\" type=\"checkbox\" checked><label for=\"sk-estimator-id-2\" class=\"sk-toggleable__label sk-toggleable__label-arrow\">DecisionTreeClassifier</label><div class=\"sk-toggleable__content\"><pre>DecisionTreeClassifier(class_weight=&#x27;balanced&#x27;)</pre></div></div></div></div></div>"
      ],
      "text/plain": [
       "DecisionTreeClassifier(class_weight='balanced')"
      ]
     },
     "execution_count": 62,
     "metadata": {},
     "output_type": "execute_result"
    }
   ],
   "source": [
    "dt.fit(tdm_train,y_train)"
   ]
  },
  {
   "cell_type": "code",
   "execution_count": 63,
   "id": "81b1d42a",
   "metadata": {},
   "outputs": [],
   "source": [
    "pred_test_dt=dt.predict(tdm_test)"
   ]
  },
  {
   "cell_type": "code",
   "execution_count": 64,
   "id": "8e654192",
   "metadata": {},
   "outputs": [],
   "source": [
    "tab5=confusion_matrix(pred_test_dt,y_test)"
   ]
  },
  {
   "cell_type": "code",
   "execution_count": 65,
   "id": "b5bd8e6d",
   "metadata": {},
   "outputs": [
    {
     "data": {
      "text/html": [
       "<div>\n",
       "<style scoped>\n",
       "    .dataframe tbody tr th:only-of-type {\n",
       "        vertical-align: middle;\n",
       "    }\n",
       "\n",
       "    .dataframe tbody tr th {\n",
       "        vertical-align: top;\n",
       "    }\n",
       "\n",
       "    .dataframe thead th {\n",
       "        text-align: right;\n",
       "    }\n",
       "</style>\n",
       "<table border=\"1\" class=\"dataframe\">\n",
       "  <thead>\n",
       "    <tr style=\"text-align: right;\">\n",
       "      <th></th>\n",
       "      <th>Non-Fraud</th>\n",
       "      <th>Fraud</th>\n",
       "    </tr>\n",
       "  </thead>\n",
       "  <tbody>\n",
       "    <tr>\n",
       "      <th>Non-Fraud</th>\n",
       "      <td>3266</td>\n",
       "      <td>55</td>\n",
       "    </tr>\n",
       "    <tr>\n",
       "      <th>Fraud</th>\n",
       "      <td>137</td>\n",
       "      <td>118</td>\n",
       "    </tr>\n",
       "  </tbody>\n",
       "</table>\n",
       "</div>"
      ],
      "text/plain": [
       "           Non-Fraud  Fraud\n",
       "Non-Fraud       3266     55\n",
       "Fraud            137    118"
      ]
     },
     "execution_count": 65,
     "metadata": {},
     "output_type": "execute_result"
    }
   ],
   "source": [
    "tab6=pd.DataFrame(tab5)\n",
    "tab6.index=['Non-Fraud','Fraud']\n",
    "tab6.columns=['Non-Fraud','Fraud']\n",
    "tab6"
   ]
  },
  {
   "cell_type": "code",
   "execution_count": 66,
   "id": "71f88be8",
   "metadata": {},
   "outputs": [
    {
     "data": {
      "text/plain": [
       "0.9463087248322147"
      ]
     },
     "execution_count": 66,
     "metadata": {},
     "output_type": "execute_result"
    }
   ],
   "source": [
    "accuracy_score(pred_test_dt,y_test)"
   ]
  },
  {
   "cell_type": "code",
   "execution_count": 67,
   "id": "6133f515",
   "metadata": {},
   "outputs": [
    {
     "data": {
      "text/plain": [
       "0.4627450980392157"
      ]
     },
     "execution_count": 67,
     "metadata": {},
     "output_type": "execute_result"
    }
   ],
   "source": [
    "recall_score(pred_test_dt,y_test)"
   ]
  },
  {
   "cell_type": "code",
   "execution_count": 68,
   "id": "72cec78f",
   "metadata": {},
   "outputs": [
    {
     "data": {
      "text/plain": [
       "0.6820809248554913"
      ]
     },
     "execution_count": 68,
     "metadata": {},
     "output_type": "execute_result"
    }
   ],
   "source": [
    "precision_score(pred_test_dt,y_test)"
   ]
  },
  {
   "cell_type": "code",
   "execution_count": 69,
   "id": "9b336e54",
   "metadata": {},
   "outputs": [
    {
     "data": {
      "text/plain": [
       "0.5514018691588785"
      ]
     },
     "execution_count": 69,
     "metadata": {},
     "output_type": "execute_result"
    }
   ],
   "source": [
    "f1_score(pred_test_dt,y_test)"
   ]
  },
  {
   "cell_type": "code",
   "execution_count": null,
   "id": "f120b0b3",
   "metadata": {},
   "outputs": [],
   "source": []
  },
  {
   "cell_type": "code",
   "execution_count": 70,
   "id": "9cfbb795",
   "metadata": {},
   "outputs": [],
   "source": [
    "from sklearn.model_selection import GridSearchCV\n",
    "from sklearn.tree import DecisionTreeClassifier"
   ]
  },
  {
   "cell_type": "code",
   "execution_count": 71,
   "id": "abc8f328",
   "metadata": {},
   "outputs": [],
   "source": [
    "search_dict={'criterion':['gini','entropy'],\n",
    "               'max_depth':range(4,9),\n",
    "              'min_samples_split':[100,150,200]}"
   ]
  },
  {
   "cell_type": "code",
   "execution_count": 72,
   "id": "c1c43c7f",
   "metadata": {},
   "outputs": [],
   "source": [
    "dt=DecisionTreeClassifier()\n",
    "grid_dt=GridSearchCV(dt,param_grid=search_dict)"
   ]
  },
  {
   "cell_type": "code",
   "execution_count": 73,
   "id": "64e5fd1a",
   "metadata": {},
   "outputs": [
    {
     "data": {
      "text/html": [
       "<style>#sk-container-id-3 {color: black;}#sk-container-id-3 pre{padding: 0;}#sk-container-id-3 div.sk-toggleable {background-color: white;}#sk-container-id-3 label.sk-toggleable__label {cursor: pointer;display: block;width: 100%;margin-bottom: 0;padding: 0.3em;box-sizing: border-box;text-align: center;}#sk-container-id-3 label.sk-toggleable__label-arrow:before {content: \"▸\";float: left;margin-right: 0.25em;color: #696969;}#sk-container-id-3 label.sk-toggleable__label-arrow:hover:before {color: black;}#sk-container-id-3 div.sk-estimator:hover label.sk-toggleable__label-arrow:before {color: black;}#sk-container-id-3 div.sk-toggleable__content {max-height: 0;max-width: 0;overflow: hidden;text-align: left;background-color: #f0f8ff;}#sk-container-id-3 div.sk-toggleable__content pre {margin: 0.2em;color: black;border-radius: 0.25em;background-color: #f0f8ff;}#sk-container-id-3 input.sk-toggleable__control:checked~div.sk-toggleable__content {max-height: 200px;max-width: 100%;overflow: auto;}#sk-container-id-3 input.sk-toggleable__control:checked~label.sk-toggleable__label-arrow:before {content: \"▾\";}#sk-container-id-3 div.sk-estimator input.sk-toggleable__control:checked~label.sk-toggleable__label {background-color: #d4ebff;}#sk-container-id-3 div.sk-label input.sk-toggleable__control:checked~label.sk-toggleable__label {background-color: #d4ebff;}#sk-container-id-3 input.sk-hidden--visually {border: 0;clip: rect(1px 1px 1px 1px);clip: rect(1px, 1px, 1px, 1px);height: 1px;margin: -1px;overflow: hidden;padding: 0;position: absolute;width: 1px;}#sk-container-id-3 div.sk-estimator {font-family: monospace;background-color: #f0f8ff;border: 1px dotted black;border-radius: 0.25em;box-sizing: border-box;margin-bottom: 0.5em;}#sk-container-id-3 div.sk-estimator:hover {background-color: #d4ebff;}#sk-container-id-3 div.sk-parallel-item::after {content: \"\";width: 100%;border-bottom: 1px solid gray;flex-grow: 1;}#sk-container-id-3 div.sk-label:hover label.sk-toggleable__label {background-color: #d4ebff;}#sk-container-id-3 div.sk-serial::before {content: \"\";position: absolute;border-left: 1px solid gray;box-sizing: border-box;top: 0;bottom: 0;left: 50%;z-index: 0;}#sk-container-id-3 div.sk-serial {display: flex;flex-direction: column;align-items: center;background-color: white;padding-right: 0.2em;padding-left: 0.2em;position: relative;}#sk-container-id-3 div.sk-item {position: relative;z-index: 1;}#sk-container-id-3 div.sk-parallel {display: flex;align-items: stretch;justify-content: center;background-color: white;position: relative;}#sk-container-id-3 div.sk-item::before, #sk-container-id-3 div.sk-parallel-item::before {content: \"\";position: absolute;border-left: 1px solid gray;box-sizing: border-box;top: 0;bottom: 0;left: 50%;z-index: -1;}#sk-container-id-3 div.sk-parallel-item {display: flex;flex-direction: column;z-index: 1;position: relative;background-color: white;}#sk-container-id-3 div.sk-parallel-item:first-child::after {align-self: flex-end;width: 50%;}#sk-container-id-3 div.sk-parallel-item:last-child::after {align-self: flex-start;width: 50%;}#sk-container-id-3 div.sk-parallel-item:only-child::after {width: 0;}#sk-container-id-3 div.sk-dashed-wrapped {border: 1px dashed gray;margin: 0 0.4em 0.5em 0.4em;box-sizing: border-box;padding-bottom: 0.4em;background-color: white;}#sk-container-id-3 div.sk-label label {font-family: monospace;font-weight: bold;display: inline-block;line-height: 1.2em;}#sk-container-id-3 div.sk-label-container {text-align: center;}#sk-container-id-3 div.sk-container {/* jupyter's `normalize.less` sets `[hidden] { display: none; }` but bootstrap.min.css set `[hidden] { display: none !important; }` so we also need the `!important` here to be able to override the default hidden behavior on the sphinx rendered scikit-learn.org. See: https://github.com/scikit-learn/scikit-learn/issues/21755 */display: inline-block !important;position: relative;}#sk-container-id-3 div.sk-text-repr-fallback {display: none;}</style><div id=\"sk-container-id-3\" class=\"sk-top-container\"><div class=\"sk-text-repr-fallback\"><pre>GridSearchCV(estimator=DecisionTreeClassifier(),\n",
       "             param_grid={&#x27;criterion&#x27;: [&#x27;gini&#x27;, &#x27;entropy&#x27;],\n",
       "                         &#x27;max_depth&#x27;: range(4, 9),\n",
       "                         &#x27;min_samples_split&#x27;: [100, 150, 200]})</pre><b>In a Jupyter environment, please rerun this cell to show the HTML representation or trust the notebook. <br />On GitHub, the HTML representation is unable to render, please try loading this page with nbviewer.org.</b></div><div class=\"sk-container\" hidden><div class=\"sk-item sk-dashed-wrapped\"><div class=\"sk-label-container\"><div class=\"sk-label sk-toggleable\"><input class=\"sk-toggleable__control sk-hidden--visually\" id=\"sk-estimator-id-3\" type=\"checkbox\" ><label for=\"sk-estimator-id-3\" class=\"sk-toggleable__label sk-toggleable__label-arrow\">GridSearchCV</label><div class=\"sk-toggleable__content\"><pre>GridSearchCV(estimator=DecisionTreeClassifier(),\n",
       "             param_grid={&#x27;criterion&#x27;: [&#x27;gini&#x27;, &#x27;entropy&#x27;],\n",
       "                         &#x27;max_depth&#x27;: range(4, 9),\n",
       "                         &#x27;min_samples_split&#x27;: [100, 150, 200]})</pre></div></div></div><div class=\"sk-parallel\"><div class=\"sk-parallel-item\"><div class=\"sk-item\"><div class=\"sk-label-container\"><div class=\"sk-label sk-toggleable\"><input class=\"sk-toggleable__control sk-hidden--visually\" id=\"sk-estimator-id-4\" type=\"checkbox\" ><label for=\"sk-estimator-id-4\" class=\"sk-toggleable__label sk-toggleable__label-arrow\">estimator: DecisionTreeClassifier</label><div class=\"sk-toggleable__content\"><pre>DecisionTreeClassifier()</pre></div></div></div><div class=\"sk-serial\"><div class=\"sk-item\"><div class=\"sk-estimator sk-toggleable\"><input class=\"sk-toggleable__control sk-hidden--visually\" id=\"sk-estimator-id-5\" type=\"checkbox\" ><label for=\"sk-estimator-id-5\" class=\"sk-toggleable__label sk-toggleable__label-arrow\">DecisionTreeClassifier</label><div class=\"sk-toggleable__content\"><pre>DecisionTreeClassifier()</pre></div></div></div></div></div></div></div></div></div></div>"
      ],
      "text/plain": [
       "GridSearchCV(estimator=DecisionTreeClassifier(),\n",
       "             param_grid={'criterion': ['gini', 'entropy'],\n",
       "                         'max_depth': range(4, 9),\n",
       "                         'min_samples_split': [100, 150, 200]})"
      ]
     },
     "execution_count": 73,
     "metadata": {},
     "output_type": "execute_result"
    }
   ],
   "source": [
    "grid_dt.fit(tdm_train,y_train)"
   ]
  },
  {
   "cell_type": "code",
   "execution_count": 74,
   "id": "b2698276",
   "metadata": {},
   "outputs": [
    {
     "data": {
      "text/plain": [
       "{'criterion': 'gini', 'max_depth': 8, 'min_samples_split': 100}"
      ]
     },
     "execution_count": 74,
     "metadata": {},
     "output_type": "execute_result"
    }
   ],
   "source": [
    "grid_dt.best_params_"
   ]
  },
  {
   "cell_type": "code",
   "execution_count": 75,
   "id": "8030a15e",
   "metadata": {},
   "outputs": [],
   "source": [
    "pred_grid_dt_test=grid_dt.predict(tdm_test)"
   ]
  },
  {
   "cell_type": "code",
   "execution_count": 76,
   "id": "e514da48",
   "metadata": {},
   "outputs": [],
   "source": [
    "tab=confusion_matrix(pred_grid_dt_test,y_test)"
   ]
  },
  {
   "cell_type": "code",
   "execution_count": 77,
   "id": "4258f9c6",
   "metadata": {},
   "outputs": [],
   "source": [
    "tab1=pd.DataFrame(tab)\n",
    "tab1.columns=['Non-Fraud','Fraud']\n",
    "tab1.index=['Non-Fraud','Fraud']"
   ]
  },
  {
   "cell_type": "code",
   "execution_count": 78,
   "id": "8485b7ac",
   "metadata": {},
   "outputs": [
    {
     "data": {
      "text/html": [
       "<div>\n",
       "<style scoped>\n",
       "    .dataframe tbody tr th:only-of-type {\n",
       "        vertical-align: middle;\n",
       "    }\n",
       "\n",
       "    .dataframe tbody tr th {\n",
       "        vertical-align: top;\n",
       "    }\n",
       "\n",
       "    .dataframe thead th {\n",
       "        text-align: right;\n",
       "    }\n",
       "</style>\n",
       "<table border=\"1\" class=\"dataframe\">\n",
       "  <thead>\n",
       "    <tr style=\"text-align: right;\">\n",
       "      <th></th>\n",
       "      <th>Non-Fraud</th>\n",
       "      <th>Fraud</th>\n",
       "    </tr>\n",
       "  </thead>\n",
       "  <tbody>\n",
       "    <tr>\n",
       "      <th>Non-Fraud</th>\n",
       "      <td>3398</td>\n",
       "      <td>107</td>\n",
       "    </tr>\n",
       "    <tr>\n",
       "      <th>Fraud</th>\n",
       "      <td>5</td>\n",
       "      <td>66</td>\n",
       "    </tr>\n",
       "  </tbody>\n",
       "</table>\n",
       "</div>"
      ],
      "text/plain": [
       "           Non-Fraud  Fraud\n",
       "Non-Fraud       3398    107\n",
       "Fraud              5     66"
      ]
     },
     "execution_count": 78,
     "metadata": {},
     "output_type": "execute_result"
    }
   ],
   "source": [
    "tab1"
   ]
  },
  {
   "cell_type": "code",
   "execution_count": 79,
   "id": "8d7376a6",
   "metadata": {},
   "outputs": [
    {
     "data": {
      "text/plain": [
       "0.9686800894854586"
      ]
     },
     "execution_count": 79,
     "metadata": {},
     "output_type": "execute_result"
    }
   ],
   "source": [
    "accuracy_score(pred_grid_dt_test,y_test)"
   ]
  },
  {
   "cell_type": "code",
   "execution_count": 80,
   "id": "69437e44",
   "metadata": {},
   "outputs": [
    {
     "data": {
      "text/plain": [
       "0.9295774647887324"
      ]
     },
     "execution_count": 80,
     "metadata": {},
     "output_type": "execute_result"
    }
   ],
   "source": [
    "recall_score(pred_grid_dt_test,y_test)"
   ]
  },
  {
   "cell_type": "markdown",
   "id": "3e01afe5",
   "metadata": {},
   "source": [
    "## Random-Forest"
   ]
  },
  {
   "cell_type": "code",
   "execution_count": 81,
   "id": "a111d072",
   "metadata": {},
   "outputs": [],
   "source": [
    "from sklearn.ensemble import RandomForestClassifier\n",
    "rfc=RandomForestClassifier( n_estimators=50)"
   ]
  },
  {
   "cell_type": "code",
   "execution_count": 82,
   "id": "701b34e1",
   "metadata": {},
   "outputs": [
    {
     "data": {
      "text/html": [
       "<style>#sk-container-id-4 {color: black;}#sk-container-id-4 pre{padding: 0;}#sk-container-id-4 div.sk-toggleable {background-color: white;}#sk-container-id-4 label.sk-toggleable__label {cursor: pointer;display: block;width: 100%;margin-bottom: 0;padding: 0.3em;box-sizing: border-box;text-align: center;}#sk-container-id-4 label.sk-toggleable__label-arrow:before {content: \"▸\";float: left;margin-right: 0.25em;color: #696969;}#sk-container-id-4 label.sk-toggleable__label-arrow:hover:before {color: black;}#sk-container-id-4 div.sk-estimator:hover label.sk-toggleable__label-arrow:before {color: black;}#sk-container-id-4 div.sk-toggleable__content {max-height: 0;max-width: 0;overflow: hidden;text-align: left;background-color: #f0f8ff;}#sk-container-id-4 div.sk-toggleable__content pre {margin: 0.2em;color: black;border-radius: 0.25em;background-color: #f0f8ff;}#sk-container-id-4 input.sk-toggleable__control:checked~div.sk-toggleable__content {max-height: 200px;max-width: 100%;overflow: auto;}#sk-container-id-4 input.sk-toggleable__control:checked~label.sk-toggleable__label-arrow:before {content: \"▾\";}#sk-container-id-4 div.sk-estimator input.sk-toggleable__control:checked~label.sk-toggleable__label {background-color: #d4ebff;}#sk-container-id-4 div.sk-label input.sk-toggleable__control:checked~label.sk-toggleable__label {background-color: #d4ebff;}#sk-container-id-4 input.sk-hidden--visually {border: 0;clip: rect(1px 1px 1px 1px);clip: rect(1px, 1px, 1px, 1px);height: 1px;margin: -1px;overflow: hidden;padding: 0;position: absolute;width: 1px;}#sk-container-id-4 div.sk-estimator {font-family: monospace;background-color: #f0f8ff;border: 1px dotted black;border-radius: 0.25em;box-sizing: border-box;margin-bottom: 0.5em;}#sk-container-id-4 div.sk-estimator:hover {background-color: #d4ebff;}#sk-container-id-4 div.sk-parallel-item::after {content: \"\";width: 100%;border-bottom: 1px solid gray;flex-grow: 1;}#sk-container-id-4 div.sk-label:hover label.sk-toggleable__label {background-color: #d4ebff;}#sk-container-id-4 div.sk-serial::before {content: \"\";position: absolute;border-left: 1px solid gray;box-sizing: border-box;top: 0;bottom: 0;left: 50%;z-index: 0;}#sk-container-id-4 div.sk-serial {display: flex;flex-direction: column;align-items: center;background-color: white;padding-right: 0.2em;padding-left: 0.2em;position: relative;}#sk-container-id-4 div.sk-item {position: relative;z-index: 1;}#sk-container-id-4 div.sk-parallel {display: flex;align-items: stretch;justify-content: center;background-color: white;position: relative;}#sk-container-id-4 div.sk-item::before, #sk-container-id-4 div.sk-parallel-item::before {content: \"\";position: absolute;border-left: 1px solid gray;box-sizing: border-box;top: 0;bottom: 0;left: 50%;z-index: -1;}#sk-container-id-4 div.sk-parallel-item {display: flex;flex-direction: column;z-index: 1;position: relative;background-color: white;}#sk-container-id-4 div.sk-parallel-item:first-child::after {align-self: flex-end;width: 50%;}#sk-container-id-4 div.sk-parallel-item:last-child::after {align-self: flex-start;width: 50%;}#sk-container-id-4 div.sk-parallel-item:only-child::after {width: 0;}#sk-container-id-4 div.sk-dashed-wrapped {border: 1px dashed gray;margin: 0 0.4em 0.5em 0.4em;box-sizing: border-box;padding-bottom: 0.4em;background-color: white;}#sk-container-id-4 div.sk-label label {font-family: monospace;font-weight: bold;display: inline-block;line-height: 1.2em;}#sk-container-id-4 div.sk-label-container {text-align: center;}#sk-container-id-4 div.sk-container {/* jupyter's `normalize.less` sets `[hidden] { display: none; }` but bootstrap.min.css set `[hidden] { display: none !important; }` so we also need the `!important` here to be able to override the default hidden behavior on the sphinx rendered scikit-learn.org. See: https://github.com/scikit-learn/scikit-learn/issues/21755 */display: inline-block !important;position: relative;}#sk-container-id-4 div.sk-text-repr-fallback {display: none;}</style><div id=\"sk-container-id-4\" class=\"sk-top-container\"><div class=\"sk-text-repr-fallback\"><pre>RandomForestClassifier(n_estimators=50)</pre><b>In a Jupyter environment, please rerun this cell to show the HTML representation or trust the notebook. <br />On GitHub, the HTML representation is unable to render, please try loading this page with nbviewer.org.</b></div><div class=\"sk-container\" hidden><div class=\"sk-item\"><div class=\"sk-estimator sk-toggleable\"><input class=\"sk-toggleable__control sk-hidden--visually\" id=\"sk-estimator-id-6\" type=\"checkbox\" checked><label for=\"sk-estimator-id-6\" class=\"sk-toggleable__label sk-toggleable__label-arrow\">RandomForestClassifier</label><div class=\"sk-toggleable__content\"><pre>RandomForestClassifier(n_estimators=50)</pre></div></div></div></div></div>"
      ],
      "text/plain": [
       "RandomForestClassifier(n_estimators=50)"
      ]
     },
     "execution_count": 82,
     "metadata": {},
     "output_type": "execute_result"
    }
   ],
   "source": [
    "rfc.fit(tdm_train,y_train)"
   ]
  },
  {
   "cell_type": "code",
   "execution_count": 83,
   "id": "6432f4c8",
   "metadata": {},
   "outputs": [],
   "source": [
    "pred_test_rfc=rfc.predict(tdm_test)"
   ]
  },
  {
   "cell_type": "code",
   "execution_count": 84,
   "id": "239d77c6",
   "metadata": {},
   "outputs": [
    {
     "data": {
      "text/plain": [
       "array([[3402,   59],\n",
       "       [   1,  114]], dtype=int64)"
      ]
     },
     "execution_count": 84,
     "metadata": {},
     "output_type": "execute_result"
    }
   ],
   "source": [
    "confusion_matrix(pred_test_rfc,y_test)"
   ]
  },
  {
   "cell_type": "code",
   "execution_count": 85,
   "id": "97db66d2",
   "metadata": {},
   "outputs": [
    {
     "data": {
      "text/plain": [
       "0.9832214765100671"
      ]
     },
     "execution_count": 85,
     "metadata": {},
     "output_type": "execute_result"
    }
   ],
   "source": [
    "accuracy_score(pred_test_rfc,y_test)"
   ]
  },
  {
   "cell_type": "code",
   "execution_count": 86,
   "id": "e50684d5",
   "metadata": {},
   "outputs": [
    {
     "data": {
      "text/plain": [
       "0.991304347826087"
      ]
     },
     "execution_count": 86,
     "metadata": {},
     "output_type": "execute_result"
    }
   ],
   "source": [
    "recall_score(pred_test_rfc,y_test)"
   ]
  },
  {
   "cell_type": "code",
   "execution_count": 87,
   "id": "fad7b510",
   "metadata": {},
   "outputs": [
    {
     "data": {
      "text/plain": [
       "0.7916666666666666"
      ]
     },
     "execution_count": 87,
     "metadata": {},
     "output_type": "execute_result"
    }
   ],
   "source": [
    "f1_score(pred_test_rfc,y_test)"
   ]
  },
  {
   "cell_type": "code",
   "execution_count": 88,
   "id": "f15342c1",
   "metadata": {},
   "outputs": [
    {
     "data": {
      "text/plain": [
       "0.6589595375722543"
      ]
     },
     "execution_count": 88,
     "metadata": {},
     "output_type": "execute_result"
    }
   ],
   "source": [
    "precision_score(pred_test_rfc,y_test)"
   ]
  },
  {
   "cell_type": "markdown",
   "id": "089dcd07",
   "metadata": {},
   "source": [
    "## Support Vector Machine"
   ]
  },
  {
   "cell_type": "code",
   "execution_count": 89,
   "id": "a1d83a4f",
   "metadata": {},
   "outputs": [],
   "source": [
    "from sklearn.svm import SVC\n",
    "svc=SVC(kernel='linear')"
   ]
  },
  {
   "cell_type": "code",
   "execution_count": 90,
   "id": "3d74c3ef",
   "metadata": {},
   "outputs": [
    {
     "data": {
      "text/html": [
       "<style>#sk-container-id-5 {color: black;}#sk-container-id-5 pre{padding: 0;}#sk-container-id-5 div.sk-toggleable {background-color: white;}#sk-container-id-5 label.sk-toggleable__label {cursor: pointer;display: block;width: 100%;margin-bottom: 0;padding: 0.3em;box-sizing: border-box;text-align: center;}#sk-container-id-5 label.sk-toggleable__label-arrow:before {content: \"▸\";float: left;margin-right: 0.25em;color: #696969;}#sk-container-id-5 label.sk-toggleable__label-arrow:hover:before {color: black;}#sk-container-id-5 div.sk-estimator:hover label.sk-toggleable__label-arrow:before {color: black;}#sk-container-id-5 div.sk-toggleable__content {max-height: 0;max-width: 0;overflow: hidden;text-align: left;background-color: #f0f8ff;}#sk-container-id-5 div.sk-toggleable__content pre {margin: 0.2em;color: black;border-radius: 0.25em;background-color: #f0f8ff;}#sk-container-id-5 input.sk-toggleable__control:checked~div.sk-toggleable__content {max-height: 200px;max-width: 100%;overflow: auto;}#sk-container-id-5 input.sk-toggleable__control:checked~label.sk-toggleable__label-arrow:before {content: \"▾\";}#sk-container-id-5 div.sk-estimator input.sk-toggleable__control:checked~label.sk-toggleable__label {background-color: #d4ebff;}#sk-container-id-5 div.sk-label input.sk-toggleable__control:checked~label.sk-toggleable__label {background-color: #d4ebff;}#sk-container-id-5 input.sk-hidden--visually {border: 0;clip: rect(1px 1px 1px 1px);clip: rect(1px, 1px, 1px, 1px);height: 1px;margin: -1px;overflow: hidden;padding: 0;position: absolute;width: 1px;}#sk-container-id-5 div.sk-estimator {font-family: monospace;background-color: #f0f8ff;border: 1px dotted black;border-radius: 0.25em;box-sizing: border-box;margin-bottom: 0.5em;}#sk-container-id-5 div.sk-estimator:hover {background-color: #d4ebff;}#sk-container-id-5 div.sk-parallel-item::after {content: \"\";width: 100%;border-bottom: 1px solid gray;flex-grow: 1;}#sk-container-id-5 div.sk-label:hover label.sk-toggleable__label {background-color: #d4ebff;}#sk-container-id-5 div.sk-serial::before {content: \"\";position: absolute;border-left: 1px solid gray;box-sizing: border-box;top: 0;bottom: 0;left: 50%;z-index: 0;}#sk-container-id-5 div.sk-serial {display: flex;flex-direction: column;align-items: center;background-color: white;padding-right: 0.2em;padding-left: 0.2em;position: relative;}#sk-container-id-5 div.sk-item {position: relative;z-index: 1;}#sk-container-id-5 div.sk-parallel {display: flex;align-items: stretch;justify-content: center;background-color: white;position: relative;}#sk-container-id-5 div.sk-item::before, #sk-container-id-5 div.sk-parallel-item::before {content: \"\";position: absolute;border-left: 1px solid gray;box-sizing: border-box;top: 0;bottom: 0;left: 50%;z-index: -1;}#sk-container-id-5 div.sk-parallel-item {display: flex;flex-direction: column;z-index: 1;position: relative;background-color: white;}#sk-container-id-5 div.sk-parallel-item:first-child::after {align-self: flex-end;width: 50%;}#sk-container-id-5 div.sk-parallel-item:last-child::after {align-self: flex-start;width: 50%;}#sk-container-id-5 div.sk-parallel-item:only-child::after {width: 0;}#sk-container-id-5 div.sk-dashed-wrapped {border: 1px dashed gray;margin: 0 0.4em 0.5em 0.4em;box-sizing: border-box;padding-bottom: 0.4em;background-color: white;}#sk-container-id-5 div.sk-label label {font-family: monospace;font-weight: bold;display: inline-block;line-height: 1.2em;}#sk-container-id-5 div.sk-label-container {text-align: center;}#sk-container-id-5 div.sk-container {/* jupyter's `normalize.less` sets `[hidden] { display: none; }` but bootstrap.min.css set `[hidden] { display: none !important; }` so we also need the `!important` here to be able to override the default hidden behavior on the sphinx rendered scikit-learn.org. See: https://github.com/scikit-learn/scikit-learn/issues/21755 */display: inline-block !important;position: relative;}#sk-container-id-5 div.sk-text-repr-fallback {display: none;}</style><div id=\"sk-container-id-5\" class=\"sk-top-container\"><div class=\"sk-text-repr-fallback\"><pre>SVC(kernel=&#x27;linear&#x27;)</pre><b>In a Jupyter environment, please rerun this cell to show the HTML representation or trust the notebook. <br />On GitHub, the HTML representation is unable to render, please try loading this page with nbviewer.org.</b></div><div class=\"sk-container\" hidden><div class=\"sk-item\"><div class=\"sk-estimator sk-toggleable\"><input class=\"sk-toggleable__control sk-hidden--visually\" id=\"sk-estimator-id-7\" type=\"checkbox\" checked><label for=\"sk-estimator-id-7\" class=\"sk-toggleable__label sk-toggleable__label-arrow\">SVC</label><div class=\"sk-toggleable__content\"><pre>SVC(kernel=&#x27;linear&#x27;)</pre></div></div></div></div></div>"
      ],
      "text/plain": [
       "SVC(kernel='linear')"
      ]
     },
     "execution_count": 90,
     "metadata": {},
     "output_type": "execute_result"
    }
   ],
   "source": [
    "svc.fit(tdm_train,y_train)"
   ]
  },
  {
   "cell_type": "code",
   "execution_count": 91,
   "id": "51e62a5a",
   "metadata": {},
   "outputs": [],
   "source": [
    "pred_svc_test=svc.predict(tdm_test)"
   ]
  },
  {
   "cell_type": "code",
   "execution_count": 92,
   "id": "1b74bb66",
   "metadata": {},
   "outputs": [],
   "source": [
    "tab9=confusion_matrix(pred_svc_test,y_test)"
   ]
  },
  {
   "cell_type": "code",
   "execution_count": 93,
   "id": "d1d8fd22",
   "metadata": {},
   "outputs": [
    {
     "data": {
      "text/html": [
       "<div>\n",
       "<style scoped>\n",
       "    .dataframe tbody tr th:only-of-type {\n",
       "        vertical-align: middle;\n",
       "    }\n",
       "\n",
       "    .dataframe tbody tr th {\n",
       "        vertical-align: top;\n",
       "    }\n",
       "\n",
       "    .dataframe thead th {\n",
       "        text-align: right;\n",
       "    }\n",
       "</style>\n",
       "<table border=\"1\" class=\"dataframe\">\n",
       "  <thead>\n",
       "    <tr style=\"text-align: right;\">\n",
       "      <th></th>\n",
       "      <th>Non-Fraud</th>\n",
       "      <th>Fraud</th>\n",
       "    </tr>\n",
       "  </thead>\n",
       "  <tbody>\n",
       "    <tr>\n",
       "      <th>Non-Fraud</th>\n",
       "      <td>3376</td>\n",
       "      <td>42</td>\n",
       "    </tr>\n",
       "    <tr>\n",
       "      <th>Fraud</th>\n",
       "      <td>27</td>\n",
       "      <td>131</td>\n",
       "    </tr>\n",
       "  </tbody>\n",
       "</table>\n",
       "</div>"
      ],
      "text/plain": [
       "           Non-Fraud  Fraud\n",
       "Non-Fraud       3376     42\n",
       "Fraud             27    131"
      ]
     },
     "execution_count": 93,
     "metadata": {},
     "output_type": "execute_result"
    }
   ],
   "source": [
    "tab8=pd.DataFrame(tab9)\n",
    "tab8.columns=['Non-Fraud','Fraud']\n",
    "tab8.index=['Non-Fraud','Fraud']\n",
    "tab8"
   ]
  },
  {
   "cell_type": "code",
   "execution_count": 94,
   "id": "2cc883fc",
   "metadata": {},
   "outputs": [
    {
     "data": {
      "text/plain": [
       "0.9807046979865772"
      ]
     },
     "execution_count": 94,
     "metadata": {},
     "output_type": "execute_result"
    }
   ],
   "source": [
    "accuracy_score(pred_svc_test,y_test)"
   ]
  },
  {
   "cell_type": "code",
   "execution_count": 95,
   "id": "0f7f7320",
   "metadata": {},
   "outputs": [
    {
     "data": {
      "text/plain": [
       "0.8291139240506329"
      ]
     },
     "execution_count": 95,
     "metadata": {},
     "output_type": "execute_result"
    }
   ],
   "source": [
    "recall_score(pred_svc_test,y_test)"
   ]
  },
  {
   "cell_type": "code",
   "execution_count": 96,
   "id": "54dba09b",
   "metadata": {},
   "outputs": [
    {
     "data": {
      "text/plain": [
       "0.7572254335260116"
      ]
     },
     "execution_count": 96,
     "metadata": {},
     "output_type": "execute_result"
    }
   ],
   "source": [
    "precision_score(pred_svc_test,y_test)"
   ]
  },
  {
   "cell_type": "code",
   "execution_count": 97,
   "id": "157fa277",
   "metadata": {},
   "outputs": [
    {
     "data": {
      "text/plain": [
       "0.7915407854984894"
      ]
     },
     "execution_count": 97,
     "metadata": {},
     "output_type": "execute_result"
    }
   ],
   "source": [
    "f1_score(pred_svc_test,y_test)"
   ]
  },
  {
   "cell_type": "code",
   "execution_count": null,
   "id": "4293fca8",
   "metadata": {},
   "outputs": [],
   "source": []
  },
  {
   "cell_type": "code",
   "execution_count": null,
   "id": "4ffc3f83",
   "metadata": {},
   "outputs": [],
   "source": []
  },
  {
   "cell_type": "code",
   "execution_count": null,
   "id": "4201bc57",
   "metadata": {},
   "outputs": [],
   "source": []
  },
  {
   "cell_type": "code",
   "execution_count": null,
   "id": "2af3a8ce",
   "metadata": {},
   "outputs": [],
   "source": []
  },
  {
   "cell_type": "code",
   "execution_count": null,
   "id": "d86a0ce0",
   "metadata": {},
   "outputs": [],
   "source": []
  },
  {
   "cell_type": "code",
   "execution_count": null,
   "id": "bddda548",
   "metadata": {},
   "outputs": [],
   "source": []
  }
 ],
 "metadata": {
  "kernelspec": {
   "display_name": "Python 3 (ipykernel)",
   "language": "python",
   "name": "python3"
  },
  "language_info": {
   "codemirror_mode": {
    "name": "ipython",
    "version": 3
   },
   "file_extension": ".py",
   "mimetype": "text/x-python",
   "name": "python",
   "nbconvert_exporter": "python",
   "pygments_lexer": "ipython3",
   "version": "3.11.4"
  }
 },
 "nbformat": 4,
 "nbformat_minor": 5
}
